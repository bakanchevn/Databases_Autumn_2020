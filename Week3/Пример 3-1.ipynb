{
 "cells": [
  {
   "cell_type": "code",
   "execution_count": 4,
   "metadata": {},
   "outputs": [
    {
     "name": "stdout",
     "output_type": "stream",
     "text": [
      "The sql extension is already loaded. To reload it, use:\n",
      "  %reload_ext sql\n"
     ]
    },
    {
     "data": {
      "text/plain": [
       "'Connected: @chinook.db'"
      ]
     },
     "execution_count": 4,
     "metadata": {},
     "output_type": "execute_result"
    }
   ],
   "source": [
    "%load_ext sql\n",
    "%sql sqlite:///chinook.db"
   ]
  },
  {
   "cell_type": "code",
   "execution_count": 6,
   "metadata": {},
   "outputs": [
    {
     "name": "stdout",
     "output_type": "stream",
     "text": [
      " * sqlite:///chinook.db\n",
      "Done.\n",
      "Done.\n",
      "Done.\n",
      "Done.\n",
      "Done.\n",
      "Done.\n",
      "Done.\n",
      "Done.\n",
      "Done.\n"
     ]
    },
    {
     "data": {
      "text/plain": [
       "[]"
      ]
     },
     "execution_count": 6,
     "metadata": {},
     "output_type": "execute_result"
    }
   ],
   "source": [
    "%%sql\n",
    "Pragma foreign_keys=on;\n",
    "\n",
    "DROP TABLE if exists Invoice_details;\n",
    "\n",
    "DROP TABLE if exists Products;\n",
    "\n",
    "DROP TABLE if exists Invoices;\n",
    "DROP TABLE if exists Customers;\n",
    "\n",
    "\n",
    "CREATE TABLE Customers (cust_ID integer NOT NULL Primary key, cust_name varchar, cust_info varchar); \n",
    "\n",
    "CREATE TABLE Invoices (invoice_ID integer NOT NULL Primary key,\n",
    "                    customer_id varchar NOT NULL,\n",
    "                    order_sum integer,\n",
    "                    invoice_date integer NOT NULL,\n",
    "                    FOREIGN KEY (customer_id) REFERENCES Customers(cust_ID));\n",
    "\n",
    "CREATE TABLE Products (product_id integer NOT NULL Primary key,\n",
    "                       product_name varchar NOT NULL, \n",
    "                       price inteder);\n",
    "\n",
    "CREATE TABLE Invoice_details (invoice_ID integer NOT NULL, \n",
    "                            product_id integer NOT NULL,\n",
    "                            qty integer NOT NULL,\n",
    "                            primary key (product_id, invoice_id)\n",
    "                            FOREIGN KEY (product_id) REFERENCES Products(product_id)\n",
    "                            FOREIGN KEY (invoice_ID) REFERENCES Invoices(invoice_ID));\n"
   ]
  },
  {
   "cell_type": "code",
   "execution_count": 10,
   "metadata": {},
   "outputs": [],
   "source": [
    "import sqlite3\n",
    "db=sqlite3.connect('chinook.db')"
   ]
  },
  {
   "cell_type": "code",
   "execution_count": 11,
   "metadata": {},
   "outputs": [
    {
     "data": {
      "text/plain": [
       "sqlite3.Connection"
      ]
     },
     "execution_count": 11,
     "metadata": {},
     "output_type": "execute_result"
    }
   ],
   "source": [
    "type(db)"
   ]
  },
  {
   "cell_type": "code",
   "execution_count": 13,
   "metadata": {},
   "outputs": [],
   "source": [
    "cur = db.cursor()"
   ]
  },
  {
   "cell_type": "code",
   "execution_count": 27,
   "metadata": {},
   "outputs": [
    {
     "data": {
      "text/plain": [
       "<sqlite3.Cursor at 0x7fc49704d500>"
      ]
     },
     "execution_count": 27,
     "metadata": {},
     "output_type": "execute_result"
    }
   ],
   "source": [
    "cur.execute(\"SELECT * FROM Customers\")"
   ]
  },
  {
   "cell_type": "code",
   "execution_count": 23,
   "metadata": {},
   "outputs": [],
   "source": [
    "a = cur.fetchone()"
   ]
  },
  {
   "cell_type": "code",
   "execution_count": 24,
   "metadata": {},
   "outputs": [
    {
     "data": {
      "text/plain": [
       "(1, 'Microsoft', 'just another OS')"
      ]
     },
     "execution_count": 24,
     "metadata": {},
     "output_type": "execute_result"
    }
   ],
   "source": [
    "a"
   ]
  },
  {
   "cell_type": "code",
   "execution_count": 26,
   "metadata": {},
   "outputs": [
    {
     "ename": "TypeError",
     "evalue": "'NoneType' object is not subscriptable",
     "output_type": "error",
     "traceback": [
      "\u001b[0;31m---------------------------------------------------------------------------\u001b[0m",
      "\u001b[0;31mTypeError\u001b[0m                                 Traceback (most recent call last)",
      "\u001b[0;32m<ipython-input-26-c17d4066c275>\u001b[0m in \u001b[0;36m<module>\u001b[0;34m\u001b[0m\n\u001b[1;32m      1\u001b[0m \u001b[0mcur\u001b[0m \u001b[0;34m=\u001b[0m \u001b[0mdb\u001b[0m\u001b[0;34m.\u001b[0m\u001b[0mcursor\u001b[0m\u001b[0;34m(\u001b[0m\u001b[0;34m)\u001b[0m\u001b[0;34m\u001b[0m\u001b[0;34m\u001b[0m\u001b[0m\n\u001b[1;32m      2\u001b[0m \u001b[0mcur\u001b[0m\u001b[0;34m.\u001b[0m\u001b[0mexecute\u001b[0m\u001b[0;34m(\u001b[0m\u001b[0;34m\"SELECT * FROM Customers where false\"\u001b[0m\u001b[0;34m)\u001b[0m\u001b[0;34m\u001b[0m\u001b[0;34m\u001b[0m\u001b[0m\n\u001b[0;32m----> 3\u001b[0;31m \u001b[0mcur\u001b[0m\u001b[0;34m.\u001b[0m\u001b[0mfetchone\u001b[0m\u001b[0;34m(\u001b[0m\u001b[0;34m)\u001b[0m\u001b[0;34m[\u001b[0m\u001b[0;36m0\u001b[0m\u001b[0;34m]\u001b[0m\u001b[0;34m\u001b[0m\u001b[0;34m\u001b[0m\u001b[0m\n\u001b[0m",
      "\u001b[0;31mTypeError\u001b[0m: 'NoneType' object is not subscriptable"
     ]
    }
   ],
   "source": [
    "cur = db.cursor()\n",
    "cur.execute(\"SELECT * FROM Customers where false\")\n",
    "cur.fetchone()[0]"
   ]
  },
  {
   "cell_type": "code",
   "execution_count": 28,
   "metadata": {},
   "outputs": [
    {
     "data": {
      "text/plain": [
       "[(1, 'Microsoft', 'just another OS'), (2, 'Google', 'lmgfy')]"
      ]
     },
     "execution_count": 28,
     "metadata": {},
     "output_type": "execute_result"
    }
   ],
   "source": [
    "cur.fetchall()"
   ]
  },
  {
   "cell_type": "code",
   "execution_count": 30,
   "metadata": {},
   "outputs": [],
   "source": [
    "\n",
    "def insert_customer(name, info, db):\n",
    "    cur = db.cursor()\n",
    "    cur.execute( '''\n",
    "    SELECT COALESCE(MAX(cust_ID)+1, 1) FROM Customers''')\n",
    "    ID = cur.fetchone()[0]\n",
    "    cur.execute('''\n",
    "        INSERT INTO Customers(cust_ID, cust_name, cust_info) VALUES(?,?,?)''', (ID,name,info))\n",
    "    db.commit()"
   ]
  },
  {
   "cell_type": "code",
   "execution_count": 31,
   "metadata": {},
   "outputs": [],
   "source": [
    "insert_customer('Microsoft', 'just another OS', db)\n",
    "insert_customer('Google', 'lmgfy', db)"
   ]
  },
  {
   "cell_type": "code",
   "execution_count": 32,
   "metadata": {},
   "outputs": [
    {
     "name": "stdout",
     "output_type": "stream",
     "text": [
      " * sqlite:///chinook.db\n",
      "Done.\n"
     ]
    },
    {
     "data": {
      "text/html": [
       "<table>\n",
       "    <tr>\n",
       "        <th>cust_ID</th>\n",
       "        <th>cust_name</th>\n",
       "        <th>cust_info</th>\n",
       "    </tr>\n",
       "    <tr>\n",
       "        <td>1</td>\n",
       "        <td>Microsoft</td>\n",
       "        <td>just another OS</td>\n",
       "    </tr>\n",
       "    <tr>\n",
       "        <td>2</td>\n",
       "        <td>Google</td>\n",
       "        <td>lmgfy</td>\n",
       "    </tr>\n",
       "    <tr>\n",
       "        <td>3</td>\n",
       "        <td>Microsoft</td>\n",
       "        <td>just another OS</td>\n",
       "    </tr>\n",
       "    <tr>\n",
       "        <td>4</td>\n",
       "        <td>Google</td>\n",
       "        <td>lmgfy</td>\n",
       "    </tr>\n",
       "</table>"
      ],
      "text/plain": [
       "[(1, 'Microsoft', 'just another OS'),\n",
       " (2, 'Google', 'lmgfy'),\n",
       " (3, 'Microsoft', 'just another OS'),\n",
       " (4, 'Google', 'lmgfy')]"
      ]
     },
     "execution_count": 32,
     "metadata": {},
     "output_type": "execute_result"
    }
   ],
   "source": [
    "%%sql\n",
    "select * from customers"
   ]
  },
  {
   "cell_type": "code",
   "execution_count": 184,
   "metadata": {},
   "outputs": [],
   "source": [
    "def insert_products(name,price):\n",
    "    cur=db.cursor()\n",
    "    cur.execute('''select coalesce(max(product_id)+1,1) from products''')\n",
    "    id=cur.fetchone()[0]\n",
    "    cur.execute('''insert into products(product_id, product_name,price) values(?,?,?)''', (id,name,price))\n",
    "    db.commit()"
   ]
  },
  {
   "cell_type": "code",
   "execution_count": 185,
   "metadata": {},
   "outputs": [],
   "source": [
    "insert_products('Win10',25000)\n",
    "insert_products('Google glass', 2000)"
   ]
  },
  {
   "cell_type": "code",
   "execution_count": 186,
   "metadata": {},
   "outputs": [
    {
     "name": "stdout",
     "output_type": "stream",
     "text": [
      "Done.\n"
     ]
    },
    {
     "data": {
      "text/html": [
       "<table>\n",
       "    <tr>\n",
       "        <th>product_id</th>\n",
       "        <th>product_name</th>\n",
       "        <th>price</th>\n",
       "    </tr>\n",
       "    <tr>\n",
       "        <td>1</td>\n",
       "        <td>Win10</td>\n",
       "        <td>25000</td>\n",
       "    </tr>\n",
       "    <tr>\n",
       "        <td>2</td>\n",
       "        <td>Google glass</td>\n",
       "        <td>2000</td>\n",
       "    </tr>\n",
       "</table>"
      ],
      "text/plain": [
       "[(1, 'Win10', 25000), (2, 'Google glass', 2000)]"
      ]
     },
     "execution_count": 186,
     "metadata": {},
     "output_type": "execute_result"
    }
   ],
   "source": [
    "%sql select * from products"
   ]
  },
  {
   "cell_type": "markdown",
   "metadata": {},
   "source": [
    "Написать функцию для добавления заказа. \n",
    "Вход параметр_1 - имя клиента, параметр_2 - список продуктов вида [['a',1],['b',2]]\n",
    "1 шаг - проверка, что есть такие продукты и клиены \n",
    "2 шаг - добавление в таблицы invoices and inv-det "
   ]
  },
  {
   "cell_type": "code",
   "execution_count": 187,
   "metadata": {},
   "outputs": [],
   "source": [
    "def check_client(name):\n",
    "    cur = db.cursor()\n",
    "    cur.execute('''select cust_id from customers where cust_name = ?''', (name,))\n",
    "    try:\n",
    "        cli_id = cur.fetchone()[0]\n",
    "        return cli_id\n",
    "    except TypeError:\n",
    "        print('Такого клиента не существует')\n",
    "        return -1\n",
    "            \n",
    "    # Проверяем, есть ли такой клиент "
   ]
  },
  {
   "cell_type": "code",
   "execution_count": 188,
   "metadata": {},
   "outputs": [],
   "source": [
    "def check_products(product_list):\n",
    "    cur = db.cursor()\n",
    "    res = []\n",
    "    for a, qty in product_list:\n",
    "        cur.execute('''select product_id from products where product_name = ? ''', (a, ))\n",
    "        try: \n",
    "            pr_id = cur.fetchone()[0]\n",
    "            res.append([pr_id, qty])\n",
    "        except TypeError:\n",
    "            print('Такой продукт не существует')\n",
    "            return -1 \n",
    "    return res"
   ]
  },
  {
   "cell_type": "code",
   "execution_count": 189,
   "metadata": {
    "collapsed": true
   },
   "outputs": [],
   "source": [
    "def add_invoice(customer_id, invoice_date='2017-04-24'):\n",
    "    cur = db.cursor()\n",
    "    cur.execute('''select coalesce(max(invoice_id) + 1, 1) from invoices''')\n",
    "    inv_id = cur.fetchone()[0]\n",
    "    cur.execute('''insert into invoices(invoice_id, customer_id, order_sum, invoice_date)\n",
    "                    VALUES(?,?,NULL,?)''', (inv_id, customer_id, invoice_date))\n",
    "    db.commit()\n",
    "    return inv_id"
   ]
  },
  {
   "cell_type": "code",
   "execution_count": 190,
   "metadata": {},
   "outputs": [],
   "source": [
    "def add_products(product_list, inv_id):\n",
    "    cur = db.cursor()\n",
    "    for name, qty in product_list:\n",
    "        cur.execute('''insert into invoice_details(invoice_id, product_id, qty) \n",
    "                        values (?,?,?)''', (inv_id, name, qty))\n",
    "    db.commit()\n",
    "    return 1\n",
    "    \n"
   ]
  },
  {
   "cell_type": "code",
   "execution_count": 191,
   "metadata": {
    "collapsed": true
   },
   "outputs": [],
   "source": [
    "def update_invoice(inv_id):\n",
    "    cur = db.cursor()\n",
    "    cur.execute('''\n",
    "    select sum(ii.qty*price)\n",
    "      from invoice_details ii\n",
    "     inner join products p\n",
    "             on ii.product_id = p.product_id \n",
    "     where invoice_id = ?''', (str(inv_id)))\n",
    "    sum_order = cur.fetchone()[0]\n",
    "    cur.execute('''Update invoices set order_sum = ? where invoice_id = ?''', (sum_order, inv_id))\n",
    "    db.commit()\n",
    "    "
   ]
  },
  {
   "cell_type": "code",
   "execution_count": 192,
   "metadata": {},
   "outputs": [],
   "source": [
    "def add_order(client_name, product_list):\n",
    "    client_id = check_client(client_name)\n",
    "    if client_id==-1:\n",
    "        return -1 \n",
    "    prod_list = check_products(product_list)\n",
    "    if prod_list == -1:\n",
    "        return -2\n",
    "    inv_id = add_invoice(client_id)\n",
    "    add_products(prod_list, inv_id)\n",
    "    update_invoice(inv_id)\n",
    "    db.commit()\n",
    "    "
   ]
  },
  {
   "cell_type": "code",
   "execution_count": 193,
   "metadata": {},
   "outputs": [],
   "source": [
    "add_order('Google', b)"
   ]
  },
  {
   "cell_type": "code",
   "execution_count": 194,
   "metadata": {},
   "outputs": [
    {
     "name": "stdout",
     "output_type": "stream",
     "text": [
      "Done.\n"
     ]
    },
    {
     "data": {
      "text/html": [
       "<table>\n",
       "    <tr>\n",
       "        <th>invoice_ID</th>\n",
       "        <th>customer_id</th>\n",
       "        <th>order_sum</th>\n",
       "        <th>invoice_date</th>\n",
       "    </tr>\n",
       "    <tr>\n",
       "        <td>1</td>\n",
       "        <td>2</td>\n",
       "        <td>260000</td>\n",
       "        <td>2017-04-24</td>\n",
       "    </tr>\n",
       "</table>"
      ],
      "text/plain": [
       "[(1, '2', 260000, '2017-04-24')]"
      ]
     },
     "execution_count": 194,
     "metadata": {},
     "output_type": "execute_result"
    }
   ],
   "source": [
    "%%sql \n",
    "SELECT * \n",
    "from invoices"
   ]
  },
  {
   "cell_type": "code",
   "execution_count": 195,
   "metadata": {},
   "outputs": [
    {
     "name": "stdout",
     "output_type": "stream",
     "text": [
      "Done.\n"
     ]
    },
    {
     "data": {
      "text/html": [
       "<table>\n",
       "    <tr>\n",
       "        <th>invoice_ID</th>\n",
       "        <th>product_id</th>\n",
       "        <th>qty</th>\n",
       "    </tr>\n",
       "    <tr>\n",
       "        <td>1</td>\n",
       "        <td>1</td>\n",
       "        <td>10</td>\n",
       "    </tr>\n",
       "    <tr>\n",
       "        <td>1</td>\n",
       "        <td>2</td>\n",
       "        <td>5</td>\n",
       "    </tr>\n",
       "</table>"
      ],
      "text/plain": [
       "[(1, 1, 10), (1, 2, 5)]"
      ]
     },
     "execution_count": 195,
     "metadata": {},
     "output_type": "execute_result"
    }
   ],
   "source": [
    "%%sql\n",
    "select * \n",
    "from invoice_Details"
   ]
  },
  {
   "cell_type": "code",
   "execution_count": null,
   "metadata": {
    "collapsed": true
   },
   "outputs": [],
   "source": []
  }
 ],
 "metadata": {
  "kernelspec": {
   "display_name": "Python 3",
   "language": "python",
   "name": "python3"
  },
  "language_info": {
   "codemirror_mode": {
    "name": "ipython",
    "version": 3
   },
   "file_extension": ".py",
   "mimetype": "text/x-python",
   "name": "python",
   "nbconvert_exporter": "python",
   "pygments_lexer": "ipython3",
   "version": "3.7.6"
  }
 },
 "nbformat": 4,
 "nbformat_minor": 2
}
