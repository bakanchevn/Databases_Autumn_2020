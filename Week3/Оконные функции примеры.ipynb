{
 "cells": [
  {
   "cell_type": "code",
   "execution_count": 1,
   "metadata": {},
   "outputs": [
    {
     "data": {
      "text/plain": [
       "'Connected: @chinook.db'"
      ]
     },
     "execution_count": 1,
     "metadata": {},
     "output_type": "execute_result"
    }
   ],
   "source": [
    "%load_ext sql\n",
    "%sql sqlite:///chinook.db"
   ]
  },
  {
   "cell_type": "markdown",
   "metadata": {},
   "source": [
    "Подробное описание оконных функций в SQLite можно посмотреть [на офф. сайте](https://sqlite.org/windowfunctions.html)"
   ]
  },
  {
   "cell_type": "markdown",
   "metadata": {},
   "source": [
    "Оконная функция - это функция, выполняемая в рамках определенного окна, специфицирующимся в блоке OVER( ).\n",
    "Оконные функции подразделяются на агрегатные оконные функции и встроенные оконные функции. \n",
    "\n"
   ]
  },
  {
   "cell_type": "code",
   "execution_count": 2,
   "metadata": {},
   "outputs": [
    {
     "name": "stdout",
     "output_type": "stream",
     "text": [
      " * sqlite:///chinook.db\n",
      "Done.\n"
     ]
    },
    {
     "data": {
      "text/html": [
       "<table>\n",
       "    <tr>\n",
       "        <th>count(*)</th>\n",
       "    </tr>\n",
       "    <tr>\n",
       "        <td>3503</td>\n",
       "    </tr>\n",
       "</table>"
      ],
      "text/plain": [
       "[(3503,)]"
      ]
     },
     "execution_count": 2,
     "metadata": {},
     "output_type": "execute_result"
    }
   ],
   "source": [
    "%%sql \n",
    "select count(*) \n",
    "from tracks\n"
   ]
  },
  {
   "cell_type": "markdown",
   "metadata": {},
   "source": [
    "Проверяем корректность версии\n"
   ]
  },
  {
   "cell_type": "markdown",
   "metadata": {},
   "source": [
    "Для возможности работы с оконными функциями версия должна быть больше 3.25.0"
   ]
  },
  {
   "cell_type": "code",
   "execution_count": 6,
   "metadata": {},
   "outputs": [
    {
     "name": "stdout",
     "output_type": "stream",
     "text": [
      " * sqlite:///chinook.db\n",
      "Done.\n"
     ]
    },
    {
     "data": {
      "text/html": [
       "<table>\n",
       "    <tr>\n",
       "        <th>SQLITE_VERSION()</th>\n",
       "    </tr>\n",
       "    <tr>\n",
       "        <td>3.31.1</td>\n",
       "    </tr>\n",
       "</table>"
      ],
      "text/plain": [
       "[('3.31.1',)]"
      ]
     },
     "execution_count": 6,
     "metadata": {},
     "output_type": "execute_result"
    }
   ],
   "source": [
    "%%sql\n",
    "select SQLITE_VERSION() "
   ]
  },
  {
   "cell_type": "markdown",
   "metadata": {},
   "source": [
    "## Агрегатные оконные функции"
   ]
  },
  {
   "cell_type": "markdown",
   "metadata": {},
   "source": [
    "```\n",
    "SELECT <название агрегатной функции>(поле) [FILTER (WHERE <выражение>)] OVER (<определение окна>)\n",
    "\n",
    "```"
   ]
  },
  {
   "cell_type": "code",
   "execution_count": null,
   "metadata": {},
   "outputs": [],
   "source": []
  },
  {
   "cell_type": "markdown",
   "metadata": {},
   "source": [
    "Вывести самые дешевые треки по жанру"
   ]
  },
  {
   "cell_type": "code",
   "execution_count": null,
   "metadata": {},
   "outputs": [],
   "source": [
    "%%sql \n",
    "select gname, price, tname\n",
    "from\n",
    "(\n",
    "select g.name as gname, row_number()\n",
    "    over (partition by g.genreid order by t.unitprice asc) rn,\n",
    "     t.unitprice as price, t.name as tname\n",
    "  from tracks t\n",
    "  join genres g\n",
    "    on t.genreid = g.genreid \n",
    ")\n",
    "where rn = 1"
   ]
  },
  {
   "cell_type": "code",
   "execution_count": null,
   "metadata": {},
   "outputs": [],
   "source": [
    "%%sql \n",
    "select gname, price, tname\n",
    "from\n",
    "(\n",
    "select g.name as gname, rank()\n",
    "    over (partition by g.genreid order by t.unitprice asc) rnk,\n",
    "     t.unitprice as price, t.name as tname\n",
    "  from tracks t\n",
    "  join genres g\n",
    "    on t.genreid = g.genreid \n",
    ")\n",
    "where rnk = 1"
   ]
  },
  {
   "cell_type": "code",
   "execution_count": null,
   "metadata": {},
   "outputs": [],
   "source": [
    "%%sql \n",
    "select distinct g.name as gname, first_value(t.name)\n",
    "    over (partition by g.genreid order by t.unitprice asc) trackName,\n",
    "     first_value(t.unitprice)\n",
    "    over (partition by g.genreid order by t.unitprice asc) unitPrice\n",
    "     \n",
    "  from tracks t\n",
    "  join genres g\n",
    "    on t.genreid = g.genreid \n"
   ]
  },
  {
   "cell_type": "markdown",
   "metadata": {},
   "source": [
    "Для каждого альбома определить жанр альбома и среднюю продолжительность треков "
   ]
  },
  {
   "cell_type": "code",
   "execution_count": null,
   "metadata": {},
   "outputs": [],
   "source": [
    "%%sql \n",
    "WITH a as\n",
    "(\n",
    "select a.title,\n",
    "       g.name, \n",
    "       count(*) tr_gn_cnt,\n",
    "       avg(t.milliseconds) ms\n",
    "  from tracks t\n",
    "  join genres g \n",
    "    on t.genreid = g.genreid\n",
    "  join albums a \n",
    "    on a.albumid = t.albumid\n",
    "group by a.albumid, a.title, g.genreid, g.name\n",
    ")\n",
    "\n",
    "select title, name, ms\n",
    "from\n",
    "(\n",
    "    select title, \n",
    "           name, \n",
    "           ms,\n",
    "           row_number() over (partition by title, name \n",
    "                              order by tr_gn_cnt desc) rn \n",
    "      from a \n",
    ")\n",
    "where rn = 1\n",
    "    "
   ]
  },
  {
   "cell_type": "code",
   "execution_count": null,
   "metadata": {},
   "outputs": [],
   "source": [
    "%%sql \n",
    "WITH a as\n",
    "(\n",
    "select a.title,\n",
    "       g.name, \n",
    "       count(*) tr_gn_cnt,\n",
    "       avg(t.milliseconds) ms\n",
    "  from tracks t\n",
    "  join genres g \n",
    "    on t.genreid = g.genreid\n",
    "  join albums a \n",
    "    on a.albumid = t.albumid\n",
    "group by a.albumid, a.title, g.genreid, g.name\n",
    ")\n",
    "\n",
    "    select distinct title, \n",
    "           name, \n",
    "           \n",
    "           first_value(ms) over (partition by title, name \n",
    "                              order by tr_gn_cnt desc) rn \n",
    "      from a "
   ]
  },
  {
   "cell_type": "markdown",
   "metadata": {},
   "source": [
    "Для каждой даты, в которую был нанят сотрудник вывести количество нанятых сотрудников до этой даты включительно."
   ]
  },
  {
   "cell_type": "code",
   "execution_count": null,
   "metadata": {},
   "outputs": [],
   "source": [
    "%%sql\n",
    "Select distinct hiredate, count(*) over (order by date(hiredate) \n",
    "                                rows between unbounded preceding\n",
    "                                and current row) cntHired\n",
    "from employees "
   ]
  },
  {
   "cell_type": "code",
   "execution_count": null,
   "metadata": {
    "collapsed": true
   },
   "outputs": [],
   "source": []
  }
 ],
 "metadata": {
  "kernelspec": {
   "display_name": "Python 3",
   "language": "python",
   "name": "python3"
  },
  "language_info": {
   "codemirror_mode": {
    "name": "ipython",
    "version": 3
   },
   "file_extension": ".py",
   "mimetype": "text/x-python",
   "name": "python",
   "nbconvert_exporter": "python",
   "pygments_lexer": "ipython3",
   "version": "3.7.6"
  }
 },
 "nbformat": 4,
 "nbformat_minor": 2
}
