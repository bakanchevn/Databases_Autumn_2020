{
 "cells": [
  {
   "cell_type": "markdown",
   "metadata": {
    "collapsed": true
   },
   "source": [
    "# Домашнее задание 2 \n",
    "\n",
    "Необходимо реализовать схему, указанную в hw_diagram.pdf \n"
   ]
  },
  {
   "cell_type": "markdown",
   "metadata": {},
   "source": [
    "## Описание таблиц \n",
    "PeopleStatus - Описание возможных статусов людей, которые есть в университете (Студент, Преподаватель).\n",
    "Faculties - Описание факультетов, которые есть в университете (KIB, IT, и т.д.).\n",
    "People - Информация о людях в университете (Имя, почта, ссылка на факультет, ссылка на статус).\n",
    "Classes - Описание возможных классов в университете (название (Математический анализ) и ссылка на факультет).\n",
    "Semesters - Справочник семестров факультета(например, Осень2016, '2016-01-01', '2016-12-31').\n",
    "ClassesSchedule - Расписание классов (ссылки на семестр, преподавателя и курс, день недели, время начала).\n",
    "StudentsSchedule - Таблица, описывающая, какой студент ходит на какой курс."
   ]
  },
  {
   "cell_type": "code",
   "execution_count": 1,
   "metadata": {
    "collapsed": true
   },
   "outputs": [],
   "source": [
    "# Не забудьте настроить соединение!"
   ]
  },
  {
   "cell_type": "markdown",
   "metadata": {},
   "source": [
    "## Создание таблиц\n",
    "Напишите ниже скрипты по созданию таблиц с учетом всех внешних ключей."
   ]
  },
  {
   "cell_type": "code",
   "execution_count": null,
   "metadata": {
    "collapsed": true
   },
   "outputs": [],
   "source": []
  },
  {
   "cell_type": "markdown",
   "metadata": {},
   "source": [
    "## Добавление записей в таблицы\n",
    "Приведите примеры добавления записей в каждую из таблиц\n"
   ]
  },
  {
   "cell_type": "code",
   "execution_count": null,
   "metadata": {
    "collapsed": true
   },
   "outputs": [],
   "source": []
  }
 ],
 "metadata": {
  "kernelspec": {
   "display_name": "Python 3",
   "language": "python",
   "name": "python3"
  },
  "language_info": {
   "codemirror_mode": {
    "name": "ipython",
    "version": 3
   },
   "file_extension": ".py",
   "mimetype": "text/x-python",
   "name": "python",
   "nbconvert_exporter": "python",
   "pygments_lexer": "ipython3",
   "version": "3.7.6"
  }
 },
 "nbformat": 4,
 "nbformat_minor": 2
}
