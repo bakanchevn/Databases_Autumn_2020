{
 "cells": [
  {
   "cell_type": "code",
   "execution_count": 1,
   "metadata": {},
   "outputs": [
    {
     "data": {
      "text/plain": [
       "'Connected: @chinook.db'"
      ]
     },
     "execution_count": 1,
     "metadata": {},
     "output_type": "execute_result"
    }
   ],
   "source": [
    "%load_ext sql\n",
    "%sql sqlite:///chinook.db"
   ]
  },
  {
   "cell_type": "code",
   "execution_count": 8,
   "metadata": {},
   "outputs": [
    {
     "name": "stdout",
     "output_type": "stream",
     "text": [
      " * sqlite:///chinook.db\n",
      "Done.\n",
      "Done.\n",
      "Done.\n"
     ]
    },
    {
     "data": {
      "text/plain": [
       "[]"
      ]
     },
     "execution_count": 8,
     "metadata": {},
     "output_type": "execute_result"
    }
   ],
   "source": [
    "%%sql\n",
    "DROP TABLE IF EXISTS Employee;\n",
    "\n",
    "DROP TABLE IF EXISTS Students;\n",
    "DROP TABLE IF EXISTS Faculties;"
   ]
  },
  {
   "cell_type": "code",
   "execution_count": 9,
   "metadata": {},
   "outputs": [
    {
     "name": "stdout",
     "output_type": "stream",
     "text": [
      " * sqlite:///chinook.db\n",
      "Done.\n",
      "Done.\n",
      "Done.\n",
      "Done.\n"
     ]
    },
    {
     "data": {
      "text/plain": [
       "[]"
      ]
     },
     "execution_count": 9,
     "metadata": {},
     "output_type": "execute_result"
    }
   ],
   "source": [
    "%%sql\n",
    "PRAGMA foreign_keys = ON;\n",
    "\n",
    "CREATE TABLE Employee(\n",
    "        id int primary key,\n",
    "        name varchar(50) not null,\n",
    "        phone varchar(50),\n",
    "        title varchar(50) not null,\n",
    "        manager_id int,\n",
    "        foreign key (manager_id) references  Employee(id)\n",
    ");\n",
    "\n",
    "\n",
    "CREATE TABLE Faculties(\n",
    "    id integer primary key, \n",
    "    name varchar(50) not null,\n",
    "    unique (name)\n",
    ");\n",
    "\n",
    "CREATE TABLE Students(\n",
    "    id integer primary key, \n",
    "    name varchar(50) not null,\n",
    "    gpa decimal(15,2), \n",
    "    faculty_id int, \n",
    "    foreign key (faculty_id) references Faculties(id)\n",
    ")\n"
   ]
  },
  {
   "cell_type": "code",
   "execution_count": 10,
   "metadata": {},
   "outputs": [
    {
     "name": "stdout",
     "output_type": "stream",
     "text": [
      " * sqlite:///chinook.db\n",
      "1 rows affected.\n",
      "1 rows affected.\n",
      "1 rows affected.\n",
      "1 rows affected.\n",
      "1 rows affected.\n",
      "1 rows affected.\n",
      "1 rows affected.\n",
      "1 rows affected.\n",
      "1 rows affected.\n",
      "1 rows affected.\n",
      "1 rows affected.\n",
      "1 rows affected.\n",
      "1 rows affected.\n",
      "1 rows affected.\n",
      "1 rows affected.\n"
     ]
    },
    {
     "data": {
      "text/plain": [
       "[]"
      ]
     },
     "execution_count": 10,
     "metadata": {},
     "output_type": "execute_result"
    }
   ],
   "source": [
    "%%sql\n",
    "insert into Faculties values (1, 'IT');\n",
    "insert into Faculties values (2, 'KIB');\n",
    "\n",
    "insert into Students values (1, 'Sidorov', 3.0, 1);\n",
    "insert into Students values (2, 'Petrov', 3.5, 2);\n",
    "insert into Students values (3, 'Verikov', 4.0, 1);\n",
    "insert into Students values (4, 'Smith', 4.2, 2);\n",
    "insert into Students values (5, 'Lee', 4.5, 1);\n",
    "insert into Students values (6, 'Jiw', 3.2, null);\n",
    "\n",
    "insert into Employee values  (1, 'Vasyugin', '+111', 'Director', null);\n",
    "insert into Employee values  (2, 'Jones', '+112', 'Vice President', 1);\n",
    "insert into Employee values  (3, 'Smith', '+113', 'Vice President', 1);\n",
    "insert into Employee values (4, 'Velaskes', '+114', 'Developer', 2);\n",
    "insert into Employee values (5, 'Simon', '+115', 'Analyst', 2);\n",
    "insert into Employee values (6, 'Johnson', '+116', 'Engineer', 3);\n",
    "insert into Employee values (7, 'Lee', '+117', 'Engineer', 3);"
   ]
  },
  {
   "cell_type": "markdown",
   "metadata": {},
   "source": [
    "# Работа с множествами"
   ]
  },
  {
   "cell_type": "markdown",
   "metadata": {},
   "source": [
    "## Операция объединения"
   ]
  },
  {
   "cell_type": "markdown",
   "metadata": {},
   "source": [
    "Вывести именя студентов со средним баллом, больше 3, или с именем, начинающимся с S."
   ]
  },
  {
   "cell_type": "code",
   "execution_count": 12,
   "metadata": {},
   "outputs": [
    {
     "name": "stdout",
     "output_type": "stream",
     "text": [
      " * sqlite:///chinook.db\n",
      "Done.\n"
     ]
    },
    {
     "data": {
      "text/html": [
       "<table>\n",
       "    <tr>\n",
       "        <th>id</th>\n",
       "        <th>name</th>\n",
       "        <th>gpa</th>\n",
       "        <th>faculty_id</th>\n",
       "    </tr>\n",
       "    <tr>\n",
       "        <td>1</td>\n",
       "        <td>Sidorov</td>\n",
       "        <td>3</td>\n",
       "        <td>1</td>\n",
       "    </tr>\n",
       "    <tr>\n",
       "        <td>2</td>\n",
       "        <td>Petrov</td>\n",
       "        <td>3.5</td>\n",
       "        <td>2</td>\n",
       "    </tr>\n",
       "    <tr>\n",
       "        <td>3</td>\n",
       "        <td>Verikov</td>\n",
       "        <td>4</td>\n",
       "        <td>1</td>\n",
       "    </tr>\n",
       "    <tr>\n",
       "        <td>4</td>\n",
       "        <td>Smith</td>\n",
       "        <td>4.2</td>\n",
       "        <td>2</td>\n",
       "    </tr>\n",
       "    <tr>\n",
       "        <td>5</td>\n",
       "        <td>Lee</td>\n",
       "        <td>4.5</td>\n",
       "        <td>1</td>\n",
       "    </tr>\n",
       "    <tr>\n",
       "        <td>6</td>\n",
       "        <td>Jiw</td>\n",
       "        <td>3.2</td>\n",
       "        <td>None</td>\n",
       "    </tr>\n",
       "</table>"
      ],
      "text/plain": [
       "[(1, 'Sidorov', 3, 1),\n",
       " (2, 'Petrov', 3.5, 2),\n",
       " (3, 'Verikov', 4, 1),\n",
       " (4, 'Smith', 4.2, 2),\n",
       " (5, 'Lee', 4.5, 1),\n",
       " (6, 'Jiw', 3.2, None)]"
      ]
     },
     "execution_count": 12,
     "metadata": {},
     "output_type": "execute_result"
    }
   ],
   "source": [
    "%%sql\n",
    "SELECT * \n",
    "  FROM Students "
   ]
  },
  {
   "cell_type": "code",
   "execution_count": 11,
   "metadata": {},
   "outputs": [
    {
     "name": "stdout",
     "output_type": "stream",
     "text": [
      " * sqlite:///chinook.db\n",
      "Done.\n"
     ]
    },
    {
     "data": {
      "text/html": [
       "<table>\n",
       "    <tr>\n",
       "        <th>name</th>\n",
       "    </tr>\n",
       "    <tr>\n",
       "        <td>Jiw</td>\n",
       "    </tr>\n",
       "    <tr>\n",
       "        <td>Lee</td>\n",
       "    </tr>\n",
       "    <tr>\n",
       "        <td>Petrov</td>\n",
       "    </tr>\n",
       "    <tr>\n",
       "        <td>Sidorov</td>\n",
       "    </tr>\n",
       "    <tr>\n",
       "        <td>Smith</td>\n",
       "    </tr>\n",
       "    <tr>\n",
       "        <td>Verikov</td>\n",
       "    </tr>\n",
       "</table>"
      ],
      "text/plain": [
       "[('Jiw',), ('Lee',), ('Petrov',), ('Sidorov',), ('Smith',), ('Verikov',)]"
      ]
     },
     "execution_count": 11,
     "metadata": {},
     "output_type": "execute_result"
    }
   ],
   "source": [
    "%%sql \n",
    "SELECT name \n",
    "  FROM Students \n",
    " WHERE name like 'S%'\n",
    "\n",
    " UNION \n",
    "\n",
    "SELECT name \n",
    "  FROM Students \n",
    " WHERE gpa > 3"
   ]
  },
  {
   "cell_type": "code",
   "execution_count": 13,
   "metadata": {},
   "outputs": [
    {
     "name": "stdout",
     "output_type": "stream",
     "text": [
      " * sqlite:///chinook.db\n",
      "Done.\n"
     ]
    },
    {
     "data": {
      "text/html": [
       "<table>\n",
       "    <tr>\n",
       "        <th>name</th>\n",
       "    </tr>\n",
       "    <tr>\n",
       "        <td>Sidorov</td>\n",
       "    </tr>\n",
       "    <tr>\n",
       "        <td>Smith</td>\n",
       "    </tr>\n",
       "    <tr>\n",
       "        <td>Petrov</td>\n",
       "    </tr>\n",
       "    <tr>\n",
       "        <td>Verikov</td>\n",
       "    </tr>\n",
       "    <tr>\n",
       "        <td>Smith</td>\n",
       "    </tr>\n",
       "    <tr>\n",
       "        <td>Lee</td>\n",
       "    </tr>\n",
       "    <tr>\n",
       "        <td>Jiw</td>\n",
       "    </tr>\n",
       "</table>"
      ],
      "text/plain": [
       "[('Sidorov',),\n",
       " ('Smith',),\n",
       " ('Petrov',),\n",
       " ('Verikov',),\n",
       " ('Smith',),\n",
       " ('Lee',),\n",
       " ('Jiw',)]"
      ]
     },
     "execution_count": 13,
     "metadata": {},
     "output_type": "execute_result"
    }
   ],
   "source": [
    "%%sql \n",
    "SELECT name \n",
    "  FROM Students \n",
    " WHERE name like 'S%'\n",
    "\n",
    " UNION ALL\n",
    "\n",
    "SELECT name \n",
    "  FROM Students \n",
    " WHERE gpa > 3"
   ]
  },
  {
   "cell_type": "markdown",
   "metadata": {},
   "source": [
    "Вывести имена студентов и имена сотрудников, и указать 1, если студент, 0, если сотрудник"
   ]
  },
  {
   "cell_type": "code",
   "execution_count": 15,
   "metadata": {},
   "outputs": [
    {
     "name": "stdout",
     "output_type": "stream",
     "text": [
      " * sqlite:///chinook.db\n",
      "Done.\n"
     ]
    },
    {
     "data": {
      "text/html": [
       "<table>\n",
       "    <tr>\n",
       "        <th>name</th>\n",
       "        <th>person_type</th>\n",
       "    </tr>\n",
       "    <tr>\n",
       "        <td>Jiw</td>\n",
       "        <td>1</td>\n",
       "    </tr>\n",
       "    <tr>\n",
       "        <td>Johnson</td>\n",
       "        <td>0</td>\n",
       "    </tr>\n",
       "    <tr>\n",
       "        <td>Jones</td>\n",
       "        <td>0</td>\n",
       "    </tr>\n",
       "    <tr>\n",
       "        <td>Lee</td>\n",
       "        <td>0</td>\n",
       "    </tr>\n",
       "    <tr>\n",
       "        <td>Lee</td>\n",
       "        <td>1</td>\n",
       "    </tr>\n",
       "    <tr>\n",
       "        <td>Petrov</td>\n",
       "        <td>1</td>\n",
       "    </tr>\n",
       "    <tr>\n",
       "        <td>Sidorov</td>\n",
       "        <td>1</td>\n",
       "    </tr>\n",
       "    <tr>\n",
       "        <td>Simon</td>\n",
       "        <td>0</td>\n",
       "    </tr>\n",
       "    <tr>\n",
       "        <td>Smith</td>\n",
       "        <td>0</td>\n",
       "    </tr>\n",
       "    <tr>\n",
       "        <td>Smith</td>\n",
       "        <td>1</td>\n",
       "    </tr>\n",
       "    <tr>\n",
       "        <td>Vasyugin</td>\n",
       "        <td>0</td>\n",
       "    </tr>\n",
       "    <tr>\n",
       "        <td>Velaskes</td>\n",
       "        <td>0</td>\n",
       "    </tr>\n",
       "    <tr>\n",
       "        <td>Verikov</td>\n",
       "        <td>1</td>\n",
       "    </tr>\n",
       "</table>"
      ],
      "text/plain": [
       "[('Jiw', 1),\n",
       " ('Johnson', 0),\n",
       " ('Jones', 0),\n",
       " ('Lee', 0),\n",
       " ('Lee', 1),\n",
       " ('Petrov', 1),\n",
       " ('Sidorov', 1),\n",
       " ('Simon', 0),\n",
       " ('Smith', 0),\n",
       " ('Smith', 1),\n",
       " ('Vasyugin', 0),\n",
       " ('Velaskes', 0),\n",
       " ('Verikov', 1)]"
      ]
     },
     "execution_count": 15,
     "metadata": {},
     "output_type": "execute_result"
    }
   ],
   "source": [
    "%%sql\n",
    "SELECT name, \n",
    "       1 as person_type\n",
    "  FROM Students \n",
    "    \n",
    " UNION \n",
    "\n",
    "SELECT name as n2,\n",
    "       0 \n",
    "  FROM Employee"
   ]
  },
  {
   "cell_type": "markdown",
   "metadata": {},
   "source": [
    "## Операция пересечения"
   ]
  },
  {
   "cell_type": "markdown",
   "metadata": {},
   "source": [
    "Вывести такие имена, которые есть одновременно у сотрудников и студентов"
   ]
  },
  {
   "cell_type": "code",
   "execution_count": 28,
   "metadata": {},
   "outputs": [
    {
     "name": "stdout",
     "output_type": "stream",
     "text": [
      " * sqlite:///chinook.db\n",
      "Done.\n"
     ]
    },
    {
     "data": {
      "text/html": [
       "<table>\n",
       "    <tr>\n",
       "        <th>name</th>\n",
       "    </tr>\n",
       "    <tr>\n",
       "        <td>Lee</td>\n",
       "    </tr>\n",
       "    <tr>\n",
       "        <td>Smith</td>\n",
       "    </tr>\n",
       "</table>"
      ],
      "text/plain": [
       "[('Lee',), ('Smith',)]"
      ]
     },
     "execution_count": 28,
     "metadata": {},
     "output_type": "execute_result"
    }
   ],
   "source": [
    "%%sql\n",
    "SELECT name\n",
    "  FROM Students \n",
    "    \n",
    "INTERSECT \n",
    "\n",
    "SELECT name\n",
    "  FROM Employee"
   ]
  },
  {
   "cell_type": "markdown",
   "metadata": {},
   "source": [
    "## Операция разности"
   ]
  },
  {
   "cell_type": "markdown",
   "metadata": {},
   "source": [
    "Вывести имена, которые встречаются среди студентов, но которых нет у сотрудников"
   ]
  },
  {
   "cell_type": "code",
   "execution_count": 32,
   "metadata": {},
   "outputs": [
    {
     "name": "stdout",
     "output_type": "stream",
     "text": [
      " * sqlite:///chinook.db\n",
      "Done.\n"
     ]
    },
    {
     "data": {
      "text/html": [
       "<table>\n",
       "    <tr>\n",
       "        <th>name</th>\n",
       "    </tr>\n",
       "    <tr>\n",
       "        <td>Petrov</td>\n",
       "    </tr>\n",
       "    <tr>\n",
       "        <td>Sidorov</td>\n",
       "    </tr>\n",
       "    <tr>\n",
       "        <td>Verikov</td>\n",
       "    </tr>\n",
       "</table>"
      ],
      "text/plain": [
       "[('Petrov',), ('Sidorov',), ('Verikov',)]"
      ]
     },
     "execution_count": 32,
     "metadata": {},
     "output_type": "execute_result"
    }
   ],
   "source": [
    "%%sql\n",
    "SELECT name\n",
    "  FROM Students \n",
    "    \n",
    "EXCEPT \n",
    "\n",
    "SELECT name\n",
    "  FROM Employee"
   ]
  },
  {
   "cell_type": "markdown",
   "metadata": {},
   "source": [
    "# Работа с null"
   ]
  },
  {
   "cell_type": "markdown",
   "metadata": {},
   "source": [
    "Вывести студентов, у которых не задан факультет"
   ]
  },
  {
   "cell_type": "markdown",
   "metadata": {},
   "source": [
    "Неверно:"
   ]
  },
  {
   "cell_type": "code",
   "execution_count": 17,
   "metadata": {},
   "outputs": [
    {
     "name": "stdout",
     "output_type": "stream",
     "text": [
      " * sqlite:///chinook.db\n",
      "Done.\n"
     ]
    },
    {
     "data": {
      "text/html": [
       "<table>\n",
       "    <tr>\n",
       "        <th>id</th>\n",
       "        <th>name</th>\n",
       "        <th>gpa</th>\n",
       "        <th>faculty_id</th>\n",
       "    </tr>\n",
       "    <tr>\n",
       "        <td>1</td>\n",
       "        <td>Sidorov</td>\n",
       "        <td>3</td>\n",
       "        <td>1</td>\n",
       "    </tr>\n",
       "    <tr>\n",
       "        <td>2</td>\n",
       "        <td>Petrov</td>\n",
       "        <td>3.5</td>\n",
       "        <td>2</td>\n",
       "    </tr>\n",
       "    <tr>\n",
       "        <td>3</td>\n",
       "        <td>Verikov</td>\n",
       "        <td>4</td>\n",
       "        <td>1</td>\n",
       "    </tr>\n",
       "    <tr>\n",
       "        <td>4</td>\n",
       "        <td>Smith</td>\n",
       "        <td>4.2</td>\n",
       "        <td>2</td>\n",
       "    </tr>\n",
       "    <tr>\n",
       "        <td>5</td>\n",
       "        <td>Lee</td>\n",
       "        <td>4.5</td>\n",
       "        <td>1</td>\n",
       "    </tr>\n",
       "    <tr>\n",
       "        <td>6</td>\n",
       "        <td>Jiw</td>\n",
       "        <td>3.2</td>\n",
       "        <td>None</td>\n",
       "    </tr>\n",
       "</table>"
      ],
      "text/plain": [
       "[(1, 'Sidorov', 3, 1),\n",
       " (2, 'Petrov', 3.5, 2),\n",
       " (3, 'Verikov', 4, 1),\n",
       " (4, 'Smith', 4.2, 2),\n",
       " (5, 'Lee', 4.5, 1),\n",
       " (6, 'Jiw', 3.2, None)]"
      ]
     },
     "execution_count": 17,
     "metadata": {},
     "output_type": "execute_result"
    }
   ],
   "source": [
    "%%sql\n",
    "SELECT * \n",
    "  FROM Students"
   ]
  },
  {
   "cell_type": "code",
   "execution_count": 18,
   "metadata": {},
   "outputs": [
    {
     "name": "stdout",
     "output_type": "stream",
     "text": [
      " * sqlite:///chinook.db\n",
      "Done.\n"
     ]
    },
    {
     "data": {
      "text/html": [
       "<table>\n",
       "    <tr>\n",
       "        <th>id</th>\n",
       "        <th>name</th>\n",
       "        <th>gpa</th>\n",
       "        <th>faculty_id</th>\n",
       "    </tr>\n",
       "</table>"
      ],
      "text/plain": [
       "[]"
      ]
     },
     "execution_count": 18,
     "metadata": {},
     "output_type": "execute_result"
    }
   ],
   "source": [
    "%%sql \n",
    "SELECT *\n",
    "  FROM Students\n",
    " WHERE faculty_id = null"
   ]
  },
  {
   "cell_type": "markdown",
   "metadata": {},
   "source": [
    "Верно:"
   ]
  },
  {
   "cell_type": "code",
   "execution_count": 19,
   "metadata": {},
   "outputs": [
    {
     "name": "stdout",
     "output_type": "stream",
     "text": [
      " * sqlite:///chinook.db\n",
      "Done.\n"
     ]
    },
    {
     "data": {
      "text/html": [
       "<table>\n",
       "    <tr>\n",
       "        <th>id</th>\n",
       "        <th>name</th>\n",
       "        <th>gpa</th>\n",
       "        <th>faculty_id</th>\n",
       "    </tr>\n",
       "    <tr>\n",
       "        <td>6</td>\n",
       "        <td>Jiw</td>\n",
       "        <td>3.2</td>\n",
       "        <td>None</td>\n",
       "    </tr>\n",
       "</table>"
      ],
      "text/plain": [
       "[(6, 'Jiw', 3.2, None)]"
      ]
     },
     "execution_count": 19,
     "metadata": {},
     "output_type": "execute_result"
    }
   ],
   "source": [
    "%%sql \n",
    "SELECT *\n",
    "  FROM Students\n",
    " WHERE faculty_id is null"
   ]
  },
  {
   "cell_type": "markdown",
   "metadata": {},
   "source": [
    "Вывести сотрудников, у которых нет вышестоящего менеджера"
   ]
  },
  {
   "cell_type": "code",
   "execution_count": 20,
   "metadata": {},
   "outputs": [
    {
     "name": "stdout",
     "output_type": "stream",
     "text": [
      " * sqlite:///chinook.db\n",
      "Done.\n"
     ]
    },
    {
     "data": {
      "text/html": [
       "<table>\n",
       "    <tr>\n",
       "        <th>id</th>\n",
       "        <th>name</th>\n",
       "        <th>phone</th>\n",
       "        <th>title</th>\n",
       "        <th>manager_id</th>\n",
       "    </tr>\n",
       "    <tr>\n",
       "        <td>1</td>\n",
       "        <td>Vasyugin</td>\n",
       "        <td>+111</td>\n",
       "        <td>Director</td>\n",
       "        <td>None</td>\n",
       "    </tr>\n",
       "</table>"
      ],
      "text/plain": [
       "[(1, 'Vasyugin', '+111', 'Director', None)]"
      ]
     },
     "execution_count": 20,
     "metadata": {},
     "output_type": "execute_result"
    }
   ],
   "source": [
    "%%sql \n",
    "SELECT * \n",
    "  FROM employee\n",
    " WHERE manager_id is null"
   ]
  },
  {
   "cell_type": "markdown",
   "metadata": {},
   "source": [
    "Вывести сотрудников, у которых есть вышестоящий менеджер"
   ]
  },
  {
   "cell_type": "code",
   "execution_count": 43,
   "metadata": {},
   "outputs": [
    {
     "name": "stdout",
     "output_type": "stream",
     "text": [
      " * sqlite:///chinook.db\n",
      "Done.\n"
     ]
    },
    {
     "data": {
      "text/html": [
       "<table>\n",
       "    <tr>\n",
       "        <th>id</th>\n",
       "        <th>name</th>\n",
       "        <th>phone</th>\n",
       "        <th>title</th>\n",
       "        <th>manager_id</th>\n",
       "    </tr>\n",
       "    <tr>\n",
       "        <td>2</td>\n",
       "        <td>Jones</td>\n",
       "        <td>+112</td>\n",
       "        <td>Vice President</td>\n",
       "        <td>1</td>\n",
       "    </tr>\n",
       "    <tr>\n",
       "        <td>3</td>\n",
       "        <td>Smith</td>\n",
       "        <td>+113</td>\n",
       "        <td>Vice President</td>\n",
       "        <td>1</td>\n",
       "    </tr>\n",
       "    <tr>\n",
       "        <td>4</td>\n",
       "        <td>Velaskes</td>\n",
       "        <td>+114</td>\n",
       "        <td>Developer</td>\n",
       "        <td>2</td>\n",
       "    </tr>\n",
       "    <tr>\n",
       "        <td>5</td>\n",
       "        <td>Simon</td>\n",
       "        <td>+115</td>\n",
       "        <td>Analyst</td>\n",
       "        <td>2</td>\n",
       "    </tr>\n",
       "    <tr>\n",
       "        <td>6</td>\n",
       "        <td>Johnson</td>\n",
       "        <td>+116</td>\n",
       "        <td>Engineer</td>\n",
       "        <td>3</td>\n",
       "    </tr>\n",
       "    <tr>\n",
       "        <td>7</td>\n",
       "        <td>Lee</td>\n",
       "        <td>+117</td>\n",
       "        <td>Engineer</td>\n",
       "        <td>3</td>\n",
       "    </tr>\n",
       "</table>"
      ],
      "text/plain": [
       "[(2, 'Jones', '+112', 'Vice President', 1),\n",
       " (3, 'Smith', '+113', 'Vice President', 1),\n",
       " (4, 'Velaskes', '+114', 'Developer', 2),\n",
       " (5, 'Simon', '+115', 'Analyst', 2),\n",
       " (6, 'Johnson', '+116', 'Engineer', 3),\n",
       " (7, 'Lee', '+117', 'Engineer', 3)]"
      ]
     },
     "execution_count": 43,
     "metadata": {},
     "output_type": "execute_result"
    }
   ],
   "source": [
    "%%sql \n",
    "SELECT * \n",
    "  FROM employee\n",
    " WHERE not (manager_id is null)"
   ]
  },
  {
   "cell_type": "code",
   "execution_count": 44,
   "metadata": {},
   "outputs": [
    {
     "name": "stdout",
     "output_type": "stream",
     "text": [
      " * sqlite:///chinook.db\n",
      "Done.\n"
     ]
    },
    {
     "data": {
      "text/html": [
       "<table>\n",
       "    <tr>\n",
       "        <th>id</th>\n",
       "        <th>name</th>\n",
       "        <th>phone</th>\n",
       "        <th>title</th>\n",
       "        <th>manager_id</th>\n",
       "    </tr>\n",
       "    <tr>\n",
       "        <td>2</td>\n",
       "        <td>Jones</td>\n",
       "        <td>+112</td>\n",
       "        <td>Vice President</td>\n",
       "        <td>1</td>\n",
       "    </tr>\n",
       "    <tr>\n",
       "        <td>3</td>\n",
       "        <td>Smith</td>\n",
       "        <td>+113</td>\n",
       "        <td>Vice President</td>\n",
       "        <td>1</td>\n",
       "    </tr>\n",
       "    <tr>\n",
       "        <td>4</td>\n",
       "        <td>Velaskes</td>\n",
       "        <td>+114</td>\n",
       "        <td>Developer</td>\n",
       "        <td>2</td>\n",
       "    </tr>\n",
       "    <tr>\n",
       "        <td>5</td>\n",
       "        <td>Simon</td>\n",
       "        <td>+115</td>\n",
       "        <td>Analyst</td>\n",
       "        <td>2</td>\n",
       "    </tr>\n",
       "    <tr>\n",
       "        <td>6</td>\n",
       "        <td>Johnson</td>\n",
       "        <td>+116</td>\n",
       "        <td>Engineer</td>\n",
       "        <td>3</td>\n",
       "    </tr>\n",
       "    <tr>\n",
       "        <td>7</td>\n",
       "        <td>Lee</td>\n",
       "        <td>+117</td>\n",
       "        <td>Engineer</td>\n",
       "        <td>3</td>\n",
       "    </tr>\n",
       "</table>"
      ],
      "text/plain": [
       "[(2, 'Jones', '+112', 'Vice President', 1),\n",
       " (3, 'Smith', '+113', 'Vice President', 1),\n",
       " (4, 'Velaskes', '+114', 'Developer', 2),\n",
       " (5, 'Simon', '+115', 'Analyst', 2),\n",
       " (6, 'Johnson', '+116', 'Engineer', 3),\n",
       " (7, 'Lee', '+117', 'Engineer', 3)]"
      ]
     },
     "execution_count": 44,
     "metadata": {},
     "output_type": "execute_result"
    }
   ],
   "source": [
    "%%sql \n",
    "SELECT * \n",
    "  FROM employee\n",
    " WHERE manager_id is not null"
   ]
  },
  {
   "cell_type": "markdown",
   "metadata": {},
   "source": [
    "## Вложенные подзапросы"
   ]
  },
  {
   "cell_type": "markdown",
   "metadata": {},
   "source": [
    "### Поиск по множеств"
   ]
  },
  {
   "cell_type": "markdown",
   "metadata": {},
   "source": [
    "Вывести студентов с факультета ИТ или Кибернетики"
   ]
  },
  {
   "cell_type": "code",
   "execution_count": 22,
   "metadata": {},
   "outputs": [
    {
     "name": "stdout",
     "output_type": "stream",
     "text": [
      " * sqlite:///chinook.db\n",
      "Done.\n"
     ]
    },
    {
     "data": {
      "text/html": [
       "<table>\n",
       "    <tr>\n",
       "        <th>id</th>\n",
       "        <th>name</th>\n",
       "        <th>gpa</th>\n",
       "        <th>faculty_id</th>\n",
       "    </tr>\n",
       "    <tr>\n",
       "        <td>1</td>\n",
       "        <td>Sidorov</td>\n",
       "        <td>3</td>\n",
       "        <td>1</td>\n",
       "    </tr>\n",
       "    <tr>\n",
       "        <td>2</td>\n",
       "        <td>Petrov</td>\n",
       "        <td>3.5</td>\n",
       "        <td>2</td>\n",
       "    </tr>\n",
       "    <tr>\n",
       "        <td>3</td>\n",
       "        <td>Verikov</td>\n",
       "        <td>4</td>\n",
       "        <td>1</td>\n",
       "    </tr>\n",
       "    <tr>\n",
       "        <td>4</td>\n",
       "        <td>Smith</td>\n",
       "        <td>4.2</td>\n",
       "        <td>2</td>\n",
       "    </tr>\n",
       "    <tr>\n",
       "        <td>5</td>\n",
       "        <td>Lee</td>\n",
       "        <td>4.5</td>\n",
       "        <td>1</td>\n",
       "    </tr>\n",
       "</table>"
      ],
      "text/plain": [
       "[(1, 'Sidorov', 3, 1),\n",
       " (2, 'Petrov', 3.5, 2),\n",
       " (3, 'Verikov', 4, 1),\n",
       " (4, 'Smith', 4.2, 2),\n",
       " (5, 'Lee', 4.5, 1)]"
      ]
     },
     "execution_count": 22,
     "metadata": {},
     "output_type": "execute_result"
    }
   ],
   "source": [
    "%%sql \n",
    "SELECT * \n",
    "  FROM Students \n",
    " WHERE faculty_id in (SELECT id FROM Faculties WHERE name in ('IT', 'KIB'))"
   ]
  },
  {
   "cell_type": "code",
   "execution_count": 21,
   "metadata": {},
   "outputs": [
    {
     "name": "stdout",
     "output_type": "stream",
     "text": [
      " * sqlite:///chinook.db\n",
      "Done.\n"
     ]
    },
    {
     "data": {
      "text/html": [
       "<table>\n",
       "    <tr>\n",
       "        <th>id</th>\n",
       "        <th>name</th>\n",
       "        <th>gpa</th>\n",
       "        <th>faculty_id</th>\n",
       "    </tr>\n",
       "    <tr>\n",
       "        <td>1</td>\n",
       "        <td>Sidorov</td>\n",
       "        <td>3</td>\n",
       "        <td>1</td>\n",
       "    </tr>\n",
       "    <tr>\n",
       "        <td>2</td>\n",
       "        <td>Petrov</td>\n",
       "        <td>3.5</td>\n",
       "        <td>2</td>\n",
       "    </tr>\n",
       "    <tr>\n",
       "        <td>3</td>\n",
       "        <td>Verikov</td>\n",
       "        <td>4</td>\n",
       "        <td>1</td>\n",
       "    </tr>\n",
       "    <tr>\n",
       "        <td>4</td>\n",
       "        <td>Smith</td>\n",
       "        <td>4.2</td>\n",
       "        <td>2</td>\n",
       "    </tr>\n",
       "    <tr>\n",
       "        <td>5</td>\n",
       "        <td>Lee</td>\n",
       "        <td>4.5</td>\n",
       "        <td>1</td>\n",
       "    </tr>\n",
       "</table>"
      ],
      "text/plain": [
       "[(1, 'Sidorov', 3, 1),\n",
       " (2, 'Petrov', 3.5, 2),\n",
       " (3, 'Verikov', 4, 1),\n",
       " (4, 'Smith', 4.2, 2),\n",
       " (5, 'Lee', 4.5, 1)]"
      ]
     },
     "execution_count": 21,
     "metadata": {},
     "output_type": "execute_result"
    }
   ],
   "source": [
    "%%sql \n",
    "SELECT * \n",
    "  FROM Students \n",
    " WHERE faculty_id in (SELECT id FROM Faculties WHERE name = 'IT' or name = 'KIB')"
   ]
  },
  {
   "cell_type": "markdown",
   "metadata": {},
   "source": [
    "Вывести студентов, которые не учаться на факультете ИТ"
   ]
  },
  {
   "cell_type": "code",
   "execution_count": 25,
   "metadata": {},
   "outputs": [
    {
     "name": "stdout",
     "output_type": "stream",
     "text": [
      " * sqlite:///chinook.db\n",
      "Done.\n"
     ]
    },
    {
     "data": {
      "text/html": [
       "<table>\n",
       "    <tr>\n",
       "        <th>id</th>\n",
       "        <th>name</th>\n",
       "        <th>gpa</th>\n",
       "        <th>faculty_id</th>\n",
       "    </tr>\n",
       "    <tr>\n",
       "        <td>1</td>\n",
       "        <td>Sidorov</td>\n",
       "        <td>3</td>\n",
       "        <td>1</td>\n",
       "    </tr>\n",
       "    <tr>\n",
       "        <td>2</td>\n",
       "        <td>Petrov</td>\n",
       "        <td>3.5</td>\n",
       "        <td>2</td>\n",
       "    </tr>\n",
       "    <tr>\n",
       "        <td>3</td>\n",
       "        <td>Verikov</td>\n",
       "        <td>4</td>\n",
       "        <td>1</td>\n",
       "    </tr>\n",
       "    <tr>\n",
       "        <td>4</td>\n",
       "        <td>Smith</td>\n",
       "        <td>4.2</td>\n",
       "        <td>2</td>\n",
       "    </tr>\n",
       "    <tr>\n",
       "        <td>5</td>\n",
       "        <td>Lee</td>\n",
       "        <td>4.5</td>\n",
       "        <td>1</td>\n",
       "    </tr>\n",
       "    <tr>\n",
       "        <td>6</td>\n",
       "        <td>Jiw</td>\n",
       "        <td>3.2</td>\n",
       "        <td>None</td>\n",
       "    </tr>\n",
       "</table>"
      ],
      "text/plain": [
       "[(1, 'Sidorov', 3, 1),\n",
       " (2, 'Petrov', 3.5, 2),\n",
       " (3, 'Verikov', 4, 1),\n",
       " (4, 'Smith', 4.2, 2),\n",
       " (5, 'Lee', 4.5, 1),\n",
       " (6, 'Jiw', 3.2, None)]"
      ]
     },
     "execution_count": 25,
     "metadata": {},
     "output_type": "execute_result"
    }
   ],
   "source": [
    "%%sql\n",
    "SELECT * \n",
    "  FROM Students"
   ]
  },
  {
   "cell_type": "code",
   "execution_count": 23,
   "metadata": {},
   "outputs": [
    {
     "name": "stdout",
     "output_type": "stream",
     "text": [
      " * sqlite:///chinook.db\n",
      "Done.\n"
     ]
    },
    {
     "data": {
      "text/html": [
       "<table>\n",
       "    <tr>\n",
       "        <th>id</th>\n",
       "        <th>name</th>\n",
       "        <th>gpa</th>\n",
       "        <th>faculty_id</th>\n",
       "    </tr>\n",
       "    <tr>\n",
       "        <td>2</td>\n",
       "        <td>Petrov</td>\n",
       "        <td>3.5</td>\n",
       "        <td>2</td>\n",
       "    </tr>\n",
       "    <tr>\n",
       "        <td>4</td>\n",
       "        <td>Smith</td>\n",
       "        <td>4.2</td>\n",
       "        <td>2</td>\n",
       "    </tr>\n",
       "</table>"
      ],
      "text/plain": [
       "[(2, 'Petrov', 3.5, 2), (4, 'Smith', 4.2, 2)]"
      ]
     },
     "execution_count": 23,
     "metadata": {},
     "output_type": "execute_result"
    }
   ],
   "source": [
    "%%sql \n",
    "SELECT * \n",
    "  FROM Students \n",
    " WHERE faculty_id not in (SELECT id FROM Faculties WHERE name = 'IT')"
   ]
  },
  {
   "cell_type": "markdown",
   "metadata": {},
   "source": [
    "Заметьте, что есть еще один студент не с факультета ИТ"
   ]
  },
  {
   "cell_type": "code",
   "execution_count": 48,
   "metadata": {},
   "outputs": [
    {
     "name": "stdout",
     "output_type": "stream",
     "text": [
      " * sqlite:///chinook.db\n",
      "Done.\n"
     ]
    },
    {
     "data": {
      "text/html": [
       "<table>\n",
       "    <tr>\n",
       "        <th>id</th>\n",
       "        <th>name</th>\n",
       "        <th>gpa</th>\n",
       "        <th>faculty_id</th>\n",
       "    </tr>\n",
       "    <tr>\n",
       "        <td>2</td>\n",
       "        <td>Petrov</td>\n",
       "        <td>3.5</td>\n",
       "        <td>2</td>\n",
       "    </tr>\n",
       "    <tr>\n",
       "        <td>4</td>\n",
       "        <td>Smith</td>\n",
       "        <td>4.2</td>\n",
       "        <td>2</td>\n",
       "    </tr>\n",
       "    <tr>\n",
       "        <td>6</td>\n",
       "        <td>Jiw</td>\n",
       "        <td>3.2</td>\n",
       "        <td>None</td>\n",
       "    </tr>\n",
       "</table>"
      ],
      "text/plain": [
       "[(2, 'Petrov', 3.5, 2), (4, 'Smith', 4.2, 2), (6, 'Jiw', 3.2, None)]"
      ]
     },
     "execution_count": 48,
     "metadata": {},
     "output_type": "execute_result"
    }
   ],
   "source": [
    "%%sql \n",
    "SELECT * \n",
    "  FROM Students \n",
    " WHERE faculty_id not in (SELECT id FROM Faculties WHERE name = 'IT')\n",
    "    OR faculty_id is null"
   ]
  },
  {
   "cell_type": "code",
   "execution_count": 30,
   "metadata": {},
   "outputs": [
    {
     "name": "stdout",
     "output_type": "stream",
     "text": [
      " * sqlite:///chinook.db\n",
      "Done.\n"
     ]
    },
    {
     "data": {
      "text/html": [
       "<table>\n",
       "    <tr>\n",
       "        <th>id</th>\n",
       "        <th>name</th>\n",
       "        <th>gpa</th>\n",
       "        <th>faculty_id</th>\n",
       "    </tr>\n",
       "    <tr>\n",
       "        <td>2</td>\n",
       "        <td>Petrov</td>\n",
       "        <td>3.5</td>\n",
       "        <td>2</td>\n",
       "    </tr>\n",
       "    <tr>\n",
       "        <td>4</td>\n",
       "        <td>Smith</td>\n",
       "        <td>4.2</td>\n",
       "        <td>2</td>\n",
       "    </tr>\n",
       "    <tr>\n",
       "        <td>6</td>\n",
       "        <td>Jiw</td>\n",
       "        <td>3.2</td>\n",
       "        <td>None</td>\n",
       "    </tr>\n",
       "</table>"
      ],
      "text/plain": [
       "[(2, 'Petrov', 3.5, 2), (4, 'Smith', 4.2, 2), (6, 'Jiw', 3.2, None)]"
      ]
     },
     "execution_count": 30,
     "metadata": {},
     "output_type": "execute_result"
    }
   ],
   "source": [
    "%%sql \n",
    "SELECT Students.*\n",
    "  FROM Students \n",
    " WHERE coalesce(faculty_id, -1) not in (SELECT id FROM Faculties WHERE name = 'IT')\n",
    "   "
   ]
  },
  {
   "cell_type": "markdown",
   "metadata": {},
   "source": [
    "Вывести студентов со средним баллом, большим чем средний балл у худшего студента с факультета Кибернетики"
   ]
  },
  {
   "cell_type": "code",
   "execution_count": 49,
   "metadata": {},
   "outputs": [
    {
     "name": "stdout",
     "output_type": "stream",
     "text": [
      " * sqlite:///chinook.db\n",
      "Done.\n"
     ]
    },
    {
     "data": {
      "text/html": [
       "<table>\n",
       "    <tr>\n",
       "        <th>id</th>\n",
       "        <th>name</th>\n",
       "        <th>gpa</th>\n",
       "        <th>faculty_id</th>\n",
       "    </tr>\n",
       "    <tr>\n",
       "        <td>3</td>\n",
       "        <td>Verikov</td>\n",
       "        <td>4</td>\n",
       "        <td>1</td>\n",
       "    </tr>\n",
       "    <tr>\n",
       "        <td>4</td>\n",
       "        <td>Smith</td>\n",
       "        <td>4.2</td>\n",
       "        <td>2</td>\n",
       "    </tr>\n",
       "    <tr>\n",
       "        <td>5</td>\n",
       "        <td>Lee</td>\n",
       "        <td>4.5</td>\n",
       "        <td>1</td>\n",
       "    </tr>\n",
       "</table>"
      ],
      "text/plain": [
       "[(3, 'Verikov', 4, 1), (4, 'Smith', 4.2, 2), (5, 'Lee', 4.5, 1)]"
      ]
     },
     "execution_count": 49,
     "metadata": {},
     "output_type": "execute_result"
    }
   ],
   "source": [
    "%%sql \n",
    "SELECT * \n",
    "  FROM Students \n",
    " WHERE gpa > (\n",
    "              SELECT MIN(gpa) \n",
    "                FROM Students \n",
    "               WHERE faculty_id = (select id FROM Faculties WHERE name = 'KIB'))"
   ]
  },
  {
   "cell_type": "markdown",
   "metadata": {},
   "source": [
    "Вывести студентов со средним баллом, большего чем средний балл у лучшего из худших струдентов по факультету"
   ]
  },
  {
   "cell_type": "markdown",
   "metadata": {},
   "source": [
    "Как не стоит писать:"
   ]
  },
  {
   "cell_type": "code",
   "execution_count": 32,
   "metadata": {},
   "outputs": [
    {
     "name": "stdout",
     "output_type": "stream",
     "text": [
      " * sqlite:///chinook.db\n",
      "Done.\n"
     ]
    },
    {
     "data": {
      "text/html": [
       "<table>\n",
       "    <tr>\n",
       "        <th>faculty_id</th>\n",
       "        <th>MIN(gpa)</th>\n",
       "    </tr>\n",
       "    <tr>\n",
       "        <td>None</td>\n",
       "        <td>3.2</td>\n",
       "    </tr>\n",
       "    <tr>\n",
       "        <td>1</td>\n",
       "        <td>3</td>\n",
       "    </tr>\n",
       "    <tr>\n",
       "        <td>2</td>\n",
       "        <td>3.5</td>\n",
       "    </tr>\n",
       "</table>"
      ],
      "text/plain": [
       "[(None, 3.2), (1, 3), (2, 3.5)]"
      ]
     },
     "execution_count": 32,
     "metadata": {},
     "output_type": "execute_result"
    }
   ],
   "source": [
    "%%sql\n",
    "\n",
    "              SELECT faculty_id, MIN(gpa) \n",
    "                FROM Students \n",
    "               GROUP BY faculty_id"
   ]
  },
  {
   "cell_type": "code",
   "execution_count": 57,
   "metadata": {},
   "outputs": [
    {
     "name": "stdout",
     "output_type": "stream",
     "text": [
      " * sqlite:///chinook.db\n",
      "Done.\n"
     ]
    },
    {
     "data": {
      "text/html": [
       "<table>\n",
       "    <tr>\n",
       "        <th>id</th>\n",
       "        <th>name</th>\n",
       "        <th>gpa</th>\n",
       "        <th>faculty_id</th>\n",
       "    </tr>\n",
       "    <tr>\n",
       "        <td>2</td>\n",
       "        <td>Petrov</td>\n",
       "        <td>3.5</td>\n",
       "        <td>2</td>\n",
       "    </tr>\n",
       "    <tr>\n",
       "        <td>3</td>\n",
       "        <td>Verikov</td>\n",
       "        <td>4</td>\n",
       "        <td>1</td>\n",
       "    </tr>\n",
       "    <tr>\n",
       "        <td>4</td>\n",
       "        <td>Smith</td>\n",
       "        <td>4.2</td>\n",
       "        <td>2</td>\n",
       "    </tr>\n",
       "    <tr>\n",
       "        <td>5</td>\n",
       "        <td>Lee</td>\n",
       "        <td>4.5</td>\n",
       "        <td>1</td>\n",
       "    </tr>\n",
       "</table>"
      ],
      "text/plain": [
       "[(2, 'Petrov', 3.5, 2),\n",
       " (3, 'Verikov', 4, 1),\n",
       " (4, 'Smith', 4.2, 2),\n",
       " (5, 'Lee', 4.5, 1)]"
      ]
     },
     "execution_count": 57,
     "metadata": {},
     "output_type": "execute_result"
    }
   ],
   "source": [
    "%%sql \n",
    "SELECT * \n",
    "  FROM Students \n",
    " WHERE gpa > (\n",
    "              SELECT MIN(gpa) \n",
    "                FROM Students \n",
    "               GROUP BY faculty_id)"
   ]
  },
  {
   "cell_type": "code",
   "execution_count": 58,
   "metadata": {},
   "outputs": [
    {
     "name": "stdout",
     "output_type": "stream",
     "text": [
      " * sqlite:///chinook.db\n",
      "Done.\n"
     ]
    },
    {
     "data": {
      "text/html": [
       "<table>\n",
       "    <tr>\n",
       "        <th>id</th>\n",
       "        <th>name</th>\n",
       "        <th>gpa</th>\n",
       "        <th>faculty_id</th>\n",
       "    </tr>\n",
       "    <tr>\n",
       "        <td>3</td>\n",
       "        <td>Verikov</td>\n",
       "        <td>4</td>\n",
       "        <td>1</td>\n",
       "    </tr>\n",
       "    <tr>\n",
       "        <td>4</td>\n",
       "        <td>Smith</td>\n",
       "        <td>4.2</td>\n",
       "        <td>2</td>\n",
       "    </tr>\n",
       "    <tr>\n",
       "        <td>5</td>\n",
       "        <td>Lee</td>\n",
       "        <td>4.5</td>\n",
       "        <td>1</td>\n",
       "    </tr>\n",
       "</table>"
      ],
      "text/plain": [
       "[(3, 'Verikov', 4, 1), (4, 'Smith', 4.2, 2), (5, 'Lee', 4.5, 1)]"
      ]
     },
     "execution_count": 58,
     "metadata": {},
     "output_type": "execute_result"
    }
   ],
   "source": [
    "%%sql \n",
    "SELECT * \n",
    "  FROM Students \n",
    " WHERE gpa > (\n",
    "              SELECT MIN(gpa) \n",
    "                FROM Students \n",
    "               GROUP BY faculty_id\n",
    "               ORDER BY min(gpa) desc)"
   ]
  },
  {
   "cell_type": "markdown",
   "metadata": {},
   "source": [
    "Правильные варианты:"
   ]
  },
  {
   "cell_type": "code",
   "execution_count": 33,
   "metadata": {},
   "outputs": [
    {
     "name": "stdout",
     "output_type": "stream",
     "text": [
      " * sqlite:///chinook.db\n",
      "Done.\n"
     ]
    },
    {
     "data": {
      "text/html": [
       "<table>\n",
       "    <tr>\n",
       "        <th>id</th>\n",
       "        <th>name</th>\n",
       "        <th>gpa</th>\n",
       "        <th>faculty_id</th>\n",
       "    </tr>\n",
       "    <tr>\n",
       "        <td>3</td>\n",
       "        <td>Verikov</td>\n",
       "        <td>4</td>\n",
       "        <td>1</td>\n",
       "    </tr>\n",
       "    <tr>\n",
       "        <td>4</td>\n",
       "        <td>Smith</td>\n",
       "        <td>4.2</td>\n",
       "        <td>2</td>\n",
       "    </tr>\n",
       "    <tr>\n",
       "        <td>5</td>\n",
       "        <td>Lee</td>\n",
       "        <td>4.5</td>\n",
       "        <td>1</td>\n",
       "    </tr>\n",
       "</table>"
      ],
      "text/plain": [
       "[(3, 'Verikov', 4, 1), (4, 'Smith', 4.2, 2), (5, 'Lee', 4.5, 1)]"
      ]
     },
     "execution_count": 33,
     "metadata": {},
     "output_type": "execute_result"
    }
   ],
   "source": [
    "%%sql \n",
    "SELECT * \n",
    "  FROM Students \n",
    " WHERE gpa > (SELECT max(gpa)\n",
    "                FROM (\n",
    "                     SELECT MIN(gpa) as gpa\n",
    "                       FROM Students \n",
    "                      GROUP BY faculty_id))"
   ]
  },
  {
   "cell_type": "code",
   "execution_count": 35,
   "metadata": {},
   "outputs": [
    {
     "name": "stdout",
     "output_type": "stream",
     "text": [
      " * sqlite:///chinook.db\n",
      "Done.\n"
     ]
    },
    {
     "data": {
      "text/html": [
       "<table>\n",
       "    <tr>\n",
       "        <th>id</th>\n",
       "        <th>name</th>\n",
       "        <th>gpa</th>\n",
       "        <th>faculty_id</th>\n",
       "    </tr>\n",
       "    <tr>\n",
       "        <td>3</td>\n",
       "        <td>Verikov</td>\n",
       "        <td>4</td>\n",
       "        <td>1</td>\n",
       "    </tr>\n",
       "    <tr>\n",
       "        <td>4</td>\n",
       "        <td>Smith</td>\n",
       "        <td>4.2</td>\n",
       "        <td>2</td>\n",
       "    </tr>\n",
       "    <tr>\n",
       "        <td>5</td>\n",
       "        <td>Lee</td>\n",
       "        <td>4.5</td>\n",
       "        <td>1</td>\n",
       "    </tr>\n",
       "</table>"
      ],
      "text/plain": [
       "[(3, 'Verikov', 4, 1), (4, 'Smith', 4.2, 2), (5, 'Lee', 4.5, 1)]"
      ]
     },
     "execution_count": 35,
     "metadata": {},
     "output_type": "execute_result"
    }
   ],
   "source": [
    "%%sql\n",
    "SELECT s.*\n",
    "  FROM Students s, (SELECT max(gpa) as m_gpa \n",
    "                FROM (\n",
    "                     SELECT MIN(gpa) as gpa\n",
    "                       FROM Students \n",
    "                      GROUP BY faculty_id))\n",
    "WHERE s.gpa > m_gpa"
   ]
  },
  {
   "cell_type": "code",
   "execution_count": 61,
   "metadata": {},
   "outputs": [
    {
     "name": "stdout",
     "output_type": "stream",
     "text": [
      " * sqlite:///chinook.db\n",
      "(sqlite3.OperationalError) near \"SELECT\": syntax error\n",
      "[SQL: SELECT * \n",
      "  FROM Students \n",
      " WHERE gpa >any (\n",
      "                     SELECT MIN(gpa) as gpa\n",
      "                       FROM Students \n",
      "                      GROUP BY faculty_id)]\n",
      "(Background on this error at: http://sqlalche.me/e/e3q8)\n"
     ]
    }
   ],
   "source": [
    "%%sql \n",
    "SELECT * \n",
    "  FROM Students \n",
    " WHERE gpa >all (\n",
    "                     SELECT MIN(gpa) as gpa\n",
    "                       FROM Students \n",
    "                      GROUP BY faculty_id)"
   ]
  },
  {
   "cell_type": "markdown",
   "metadata": {},
   "source": [
    "Вывести студентов со средним баллом, который больше чем минимальный средний балл на их факультете"
   ]
  },
  {
   "cell_type": "code",
   "execution_count": 37,
   "metadata": {},
   "outputs": [
    {
     "name": "stdout",
     "output_type": "stream",
     "text": [
      " * sqlite:///chinook.db\n",
      "Done.\n"
     ]
    },
    {
     "data": {
      "text/html": [
       "<table>\n",
       "    <tr>\n",
       "        <th>id</th>\n",
       "        <th>name</th>\n",
       "        <th>gpa</th>\n",
       "        <th>faculty_id</th>\n",
       "    </tr>\n",
       "    <tr>\n",
       "        <td>1</td>\n",
       "        <td>Sidorov</td>\n",
       "        <td>3</td>\n",
       "        <td>1</td>\n",
       "    </tr>\n",
       "    <tr>\n",
       "        <td>3</td>\n",
       "        <td>Verikov</td>\n",
       "        <td>4</td>\n",
       "        <td>1</td>\n",
       "    </tr>\n",
       "    <tr>\n",
       "        <td>5</td>\n",
       "        <td>Lee</td>\n",
       "        <td>4.5</td>\n",
       "        <td>1</td>\n",
       "    </tr>\n",
       "</table>"
      ],
      "text/plain": [
       "[(1, 'Sidorov', 3, 1), (3, 'Verikov', 4, 1), (5, 'Lee', 4.5, 1)]"
      ]
     },
     "execution_count": 37,
     "metadata": {},
     "output_type": "execute_result"
    }
   ],
   "source": [
    "%%sql\n",
    "SELECT * \n",
    "  FROM Students\n",
    " WHERE faculty_id = 1"
   ]
  },
  {
   "cell_type": "code",
   "execution_count": 62,
   "metadata": {},
   "outputs": [
    {
     "name": "stdout",
     "output_type": "stream",
     "text": [
      " * sqlite:///chinook.db\n",
      "Done.\n"
     ]
    },
    {
     "data": {
      "text/html": [
       "<table>\n",
       "    <tr>\n",
       "        <th>id</th>\n",
       "        <th>name</th>\n",
       "        <th>gpa</th>\n",
       "        <th>faculty_id</th>\n",
       "    </tr>\n",
       "    <tr>\n",
       "        <td>3</td>\n",
       "        <td>Verikov</td>\n",
       "        <td>4</td>\n",
       "        <td>1</td>\n",
       "    </tr>\n",
       "    <tr>\n",
       "        <td>4</td>\n",
       "        <td>Smith</td>\n",
       "        <td>4.2</td>\n",
       "        <td>2</td>\n",
       "    </tr>\n",
       "    <tr>\n",
       "        <td>5</td>\n",
       "        <td>Lee</td>\n",
       "        <td>4.5</td>\n",
       "        <td>1</td>\n",
       "    </tr>\n",
       "</table>"
      ],
      "text/plain": [
       "[(3, 'Verikov', 4, 1), (4, 'Smith', 4.2, 2), (5, 'Lee', 4.5, 1)]"
      ]
     },
     "execution_count": 62,
     "metadata": {},
     "output_type": "execute_result"
    }
   ],
   "source": [
    "%%sql \n",
    "SELECT * \n",
    "  FROM Students s_o\n",
    " WHERE EXISTS(\n",
    "    SELECT 1\n",
    "      FROM Students s_i\n",
    "     WHERE s_o.faculty_id = s_i.faculty_id\n",
    "       AND s_o.gpa > s_i.gpa\n",
    "    )"
   ]
  },
  {
   "cell_type": "code",
   "execution_count": 38,
   "metadata": {},
   "outputs": [
    {
     "name": "stdout",
     "output_type": "stream",
     "text": [
      " * sqlite:///chinook.db\n",
      "Done.\n"
     ]
    },
    {
     "data": {
      "text/html": [
       "<table>\n",
       "    <tr>\n",
       "        <th>id</th>\n",
       "        <th>name</th>\n",
       "        <th>gpa</th>\n",
       "        <th>faculty_id</th>\n",
       "    </tr>\n",
       "    <tr>\n",
       "        <td>3</td>\n",
       "        <td>Verikov</td>\n",
       "        <td>4</td>\n",
       "        <td>1</td>\n",
       "    </tr>\n",
       "    <tr>\n",
       "        <td>4</td>\n",
       "        <td>Smith</td>\n",
       "        <td>4.2</td>\n",
       "        <td>2</td>\n",
       "    </tr>\n",
       "    <tr>\n",
       "        <td>5</td>\n",
       "        <td>Lee</td>\n",
       "        <td>4.5</td>\n",
       "        <td>1</td>\n",
       "    </tr>\n",
       "</table>"
      ],
      "text/plain": [
       "[(3, 'Verikov', 4, 1), (4, 'Smith', 4.2, 2), (5, 'Lee', 4.5, 1)]"
      ]
     },
     "execution_count": 38,
     "metadata": {},
     "output_type": "execute_result"
    }
   ],
   "source": [
    "%%sql\n",
    "SELECT s.*\n",
    "  FROM Students s\n",
    "  INNER \n",
    "  JOIN \n",
    "      (\n",
    "      SELECT faculty_id, min(gpa) as min_gpa\n",
    "        FROM Students \n",
    "       GROUP\n",
    "          BY faculty_id\n",
    "      ) G\n",
    "    ON s.faculty_id = g.faculty_id\n",
    " WHERE s.gpa > g.min_gpa"
   ]
  },
  {
   "cell_type": "markdown",
   "metadata": {},
   "source": [
    "## Оператор WITH"
   ]
  },
  {
   "cell_type": "code",
   "execution_count": 41,
   "metadata": {},
   "outputs": [
    {
     "name": "stdout",
     "output_type": "stream",
     "text": [
      " * sqlite:///chinook.db\n",
      "Done.\n"
     ]
    },
    {
     "data": {
      "text/html": [
       "<table>\n",
       "    <tr>\n",
       "        <th>id</th>\n",
       "        <th>name</th>\n",
       "        <th>gpa</th>\n",
       "        <th>faculty_id</th>\n",
       "    </tr>\n",
       "    <tr>\n",
       "        <td>3</td>\n",
       "        <td>Verikov</td>\n",
       "        <td>4</td>\n",
       "        <td>1</td>\n",
       "    </tr>\n",
       "    <tr>\n",
       "        <td>4</td>\n",
       "        <td>Smith</td>\n",
       "        <td>4.2</td>\n",
       "        <td>2</td>\n",
       "    </tr>\n",
       "    <tr>\n",
       "        <td>5</td>\n",
       "        <td>Lee</td>\n",
       "        <td>4.5</td>\n",
       "        <td>1</td>\n",
       "    </tr>\n",
       "</table>"
      ],
      "text/plain": [
       "[(3, 'Verikov', 4, 1), (4, 'Smith', 4.2, 2), (5, 'Lee', 4.5, 1)]"
      ]
     },
     "execution_count": 41,
     "metadata": {},
     "output_type": "execute_result"
    }
   ],
   "source": [
    "%%sql\n",
    "WITH g AS \n",
    "(\n",
    "SELECT faculty_id, min(gpa) as min_gpa\n",
    "  FROM Students \n",
    " GROUP \n",
    "    BY faculty_id\n",
    ")\n",
    "SELECT s.*\n",
    "  FROM Students s\n",
    " INNER \n",
    "  JOIN g\n",
    "    ON s.faculty_id = g.faculty_id\n",
    " WHERE s.gpa > g.min_gpa"
   ]
  },
  {
   "cell_type": "code",
   "execution_count": 43,
   "metadata": {},
   "outputs": [
    {
     "name": "stdout",
     "output_type": "stream",
     "text": [
      " * sqlite:///chinook.db\n",
      "Done.\n"
     ]
    },
    {
     "data": {
      "text/html": [
       "<table>\n",
       "    <tr>\n",
       "        <th>id</th>\n",
       "        <th>name</th>\n",
       "        <th>gpa</th>\n",
       "        <th>faculty_id</th>\n",
       "    </tr>\n",
       "    <tr>\n",
       "        <td>3</td>\n",
       "        <td>Verikov</td>\n",
       "        <td>4</td>\n",
       "        <td>1</td>\n",
       "    </tr>\n",
       "    <tr>\n",
       "        <td>4</td>\n",
       "        <td>Smith</td>\n",
       "        <td>4.2</td>\n",
       "        <td>2</td>\n",
       "    </tr>\n",
       "    <tr>\n",
       "        <td>5</td>\n",
       "        <td>Lee</td>\n",
       "        <td>4.5</td>\n",
       "        <td>1</td>\n",
       "    </tr>\n",
       "</table>"
      ],
      "text/plain": [
       "[(3, 'Verikov', 4, 1), (4, 'Smith', 4.2, 2), (5, 'Lee', 4.5, 1)]"
      ]
     },
     "execution_count": 43,
     "metadata": {},
     "output_type": "execute_result"
    }
   ],
   "source": [
    "%%sql\n",
    "WITH KIB_fac_id AS \n",
    "(\n",
    "SELECT id\n",
    "  FROM Faculties \n",
    " WHERE name = 'KIB'\n",
    "),\n",
    "min_gpa as \n",
    "(\n",
    "SELECT MIN(gpa) as min_gpa\n",
    "  FROM Students \n",
    " WHERE faculty_id = (SELECT id FROM KIB_fac_id)\n",
    ")\n",
    "SELECT * \n",
    "  FROM Students \n",
    " WHERE gpa > (SELECT min_gpa from min_gpa)"
   ]
  },
  {
   "cell_type": "markdown",
   "metadata": {},
   "source": [
    "## Скалярные подзапросы"
   ]
  },
  {
   "cell_type": "markdown",
   "metadata": {},
   "source": [
    "Вывести для каждого факультета количество студентов на факультете"
   ]
  },
  {
   "cell_type": "code",
   "execution_count": 45,
   "metadata": {},
   "outputs": [
    {
     "name": "stdout",
     "output_type": "stream",
     "text": [
      " * sqlite:///chinook.db\n",
      "Done.\n"
     ]
    },
    {
     "data": {
      "text/html": [
       "<table>\n",
       "    <tr>\n",
       "        <th>id</th>\n",
       "        <th>name</th>\n",
       "        <th>cnt</th>\n",
       "    </tr>\n",
       "    <tr>\n",
       "        <td>1</td>\n",
       "        <td>IT</td>\n",
       "        <td>3</td>\n",
       "    </tr>\n",
       "    <tr>\n",
       "        <td>2</td>\n",
       "        <td>KIB</td>\n",
       "        <td>2</td>\n",
       "    </tr>\n",
       "</table>"
      ],
      "text/plain": [
       "[(1, 'IT', 3), (2, 'KIB', 2)]"
      ]
     },
     "execution_count": 45,
     "metadata": {},
     "output_type": "execute_result"
    }
   ],
   "source": [
    "%%sql\n",
    "SELECT id, name,  (SELECT count(*) FROM Students s WHERE s.faculty_id = f.id ) as cnt\n",
    "  FROM Faculties f"
   ]
  },
  {
   "cell_type": "markdown",
   "metadata": {},
   "source": [
    "# Соединения"
   ]
  },
  {
   "cell_type": "code",
   "execution_count": 76,
   "metadata": {},
   "outputs": [
    {
     "name": "stdout",
     "output_type": "stream",
     "text": [
      " * sqlite:///chinook.db\n",
      "Done.\n"
     ]
    },
    {
     "data": {
      "text/html": [
       "<table>\n",
       "    <tr>\n",
       "        <th>id</th>\n",
       "        <th>name</th>\n",
       "        <th>gpa</th>\n",
       "        <th>faculty_id</th>\n",
       "        <th>id_1</th>\n",
       "        <th>name_1</th>\n",
       "    </tr>\n",
       "</table>"
      ],
      "text/plain": [
       "[]"
      ]
     },
     "execution_count": 76,
     "metadata": {},
     "output_type": "execute_result"
    }
   ],
   "source": [
    "%%sql\n",
    "SELECT s.*, f.*\n",
    "  FROM Students s \n",
    "NATURAL\n",
    "  JOIN Faculties f"
   ]
  },
  {
   "cell_type": "code",
   "execution_count": 77,
   "metadata": {},
   "outputs": [
    {
     "name": "stdout",
     "output_type": "stream",
     "text": [
      " * sqlite:///chinook.db\n",
      "Done.\n"
     ]
    },
    {
     "data": {
      "text/html": [
       "<table>\n",
       "    <tr>\n",
       "        <th>id</th>\n",
       "        <th>name</th>\n",
       "        <th>gpa</th>\n",
       "        <th>faculty_id</th>\n",
       "        <th>id_1</th>\n",
       "        <th>name_1</th>\n",
       "    </tr>\n",
       "    <tr>\n",
       "        <td>1</td>\n",
       "        <td>Sidorov</td>\n",
       "        <td>3</td>\n",
       "        <td>1</td>\n",
       "        <td>1</td>\n",
       "        <td>IT</td>\n",
       "    </tr>\n",
       "    <tr>\n",
       "        <td>2</td>\n",
       "        <td>Petrov</td>\n",
       "        <td>3.5</td>\n",
       "        <td>2</td>\n",
       "        <td>2</td>\n",
       "        <td>KIB</td>\n",
       "    </tr>\n",
       "    <tr>\n",
       "        <td>3</td>\n",
       "        <td>Verikov</td>\n",
       "        <td>4</td>\n",
       "        <td>1</td>\n",
       "        <td>1</td>\n",
       "        <td>IT</td>\n",
       "    </tr>\n",
       "    <tr>\n",
       "        <td>4</td>\n",
       "        <td>Smith</td>\n",
       "        <td>4.2</td>\n",
       "        <td>2</td>\n",
       "        <td>2</td>\n",
       "        <td>KIB</td>\n",
       "    </tr>\n",
       "    <tr>\n",
       "        <td>5</td>\n",
       "        <td>Lee</td>\n",
       "        <td>4.5</td>\n",
       "        <td>1</td>\n",
       "        <td>1</td>\n",
       "        <td>IT</td>\n",
       "    </tr>\n",
       "</table>"
      ],
      "text/plain": [
       "[(1, 'Sidorov', 3, 1, 1, 'IT'),\n",
       " (2, 'Petrov', 3.5, 2, 2, 'KIB'),\n",
       " (3, 'Verikov', 4, 1, 1, 'IT'),\n",
       " (4, 'Smith', 4.2, 2, 2, 'KIB'),\n",
       " (5, 'Lee', 4.5, 1, 1, 'IT')]"
      ]
     },
     "execution_count": 77,
     "metadata": {},
     "output_type": "execute_result"
    }
   ],
   "source": [
    "%%sql\n",
    "SELECT s.*, f.* \n",
    "  FROM Students s \n",
    " INNER \n",
    "  JOIN Faculties F \n",
    "    ON s.faculty_id = f.id"
   ]
  },
  {
   "cell_type": "code",
   "execution_count": 78,
   "metadata": {},
   "outputs": [
    {
     "name": "stdout",
     "output_type": "stream",
     "text": [
      " * sqlite:///chinook.db\n",
      "Done.\n"
     ]
    },
    {
     "data": {
      "text/html": [
       "<table>\n",
       "    <tr>\n",
       "        <th>id</th>\n",
       "        <th>name</th>\n",
       "        <th>gpa</th>\n",
       "        <th>faculty_id</th>\n",
       "        <th>id_1</th>\n",
       "        <th>name_1</th>\n",
       "    </tr>\n",
       "    <tr>\n",
       "        <td>1</td>\n",
       "        <td>Sidorov</td>\n",
       "        <td>3</td>\n",
       "        <td>1</td>\n",
       "        <td>1</td>\n",
       "        <td>IT</td>\n",
       "    </tr>\n",
       "    <tr>\n",
       "        <td>2</td>\n",
       "        <td>Petrov</td>\n",
       "        <td>3.5</td>\n",
       "        <td>2</td>\n",
       "        <td>2</td>\n",
       "        <td>KIB</td>\n",
       "    </tr>\n",
       "    <tr>\n",
       "        <td>3</td>\n",
       "        <td>Verikov</td>\n",
       "        <td>4</td>\n",
       "        <td>1</td>\n",
       "        <td>1</td>\n",
       "        <td>IT</td>\n",
       "    </tr>\n",
       "    <tr>\n",
       "        <td>4</td>\n",
       "        <td>Smith</td>\n",
       "        <td>4.2</td>\n",
       "        <td>2</td>\n",
       "        <td>2</td>\n",
       "        <td>KIB</td>\n",
       "    </tr>\n",
       "    <tr>\n",
       "        <td>5</td>\n",
       "        <td>Lee</td>\n",
       "        <td>4.5</td>\n",
       "        <td>1</td>\n",
       "        <td>1</td>\n",
       "        <td>IT</td>\n",
       "    </tr>\n",
       "    <tr>\n",
       "        <td>6</td>\n",
       "        <td>Jiw</td>\n",
       "        <td>3.2</td>\n",
       "        <td>None</td>\n",
       "        <td>None</td>\n",
       "        <td>None</td>\n",
       "    </tr>\n",
       "</table>"
      ],
      "text/plain": [
       "[(1, 'Sidorov', 3, 1, 1, 'IT'),\n",
       " (2, 'Petrov', 3.5, 2, 2, 'KIB'),\n",
       " (3, 'Verikov', 4, 1, 1, 'IT'),\n",
       " (4, 'Smith', 4.2, 2, 2, 'KIB'),\n",
       " (5, 'Lee', 4.5, 1, 1, 'IT'),\n",
       " (6, 'Jiw', 3.2, None, None, None)]"
      ]
     },
     "execution_count": 78,
     "metadata": {},
     "output_type": "execute_result"
    }
   ],
   "source": [
    "%%sql\n",
    "SELECT s.*, f.* \n",
    "  FROM Students s \n",
    "  LEFT\n",
    "  JOIN Faculties F \n",
    "    ON s.faculty_id = f.id"
   ]
  },
  {
   "cell_type": "code",
   "execution_count": 79,
   "metadata": {},
   "outputs": [
    {
     "name": "stdout",
     "output_type": "stream",
     "text": [
      " * sqlite:///chinook.db\n",
      "Done.\n"
     ]
    },
    {
     "data": {
      "text/html": [
       "<table>\n",
       "    <tr>\n",
       "        <th>id</th>\n",
       "        <th>name</th>\n",
       "        <th>gpa</th>\n",
       "        <th>faculty_id</th>\n",
       "        <th>id_1</th>\n",
       "        <th>name_1</th>\n",
       "    </tr>\n",
       "    <tr>\n",
       "        <td>1</td>\n",
       "        <td>Sidorov</td>\n",
       "        <td>3</td>\n",
       "        <td>1</td>\n",
       "        <td>1</td>\n",
       "        <td>IT</td>\n",
       "    </tr>\n",
       "    <tr>\n",
       "        <td>2</td>\n",
       "        <td>Petrov</td>\n",
       "        <td>3.5</td>\n",
       "        <td>2</td>\n",
       "        <td>2</td>\n",
       "        <td>KIB</td>\n",
       "    </tr>\n",
       "    <tr>\n",
       "        <td>3</td>\n",
       "        <td>Verikov</td>\n",
       "        <td>4</td>\n",
       "        <td>1</td>\n",
       "        <td>1</td>\n",
       "        <td>IT</td>\n",
       "    </tr>\n",
       "    <tr>\n",
       "        <td>4</td>\n",
       "        <td>Smith</td>\n",
       "        <td>4.2</td>\n",
       "        <td>2</td>\n",
       "        <td>2</td>\n",
       "        <td>KIB</td>\n",
       "    </tr>\n",
       "    <tr>\n",
       "        <td>5</td>\n",
       "        <td>Lee</td>\n",
       "        <td>4.5</td>\n",
       "        <td>1</td>\n",
       "        <td>1</td>\n",
       "        <td>IT</td>\n",
       "    </tr>\n",
       "    <tr>\n",
       "        <td>6</td>\n",
       "        <td>Jiw</td>\n",
       "        <td>3.2</td>\n",
       "        <td>None</td>\n",
       "        <td>None</td>\n",
       "        <td>None</td>\n",
       "    </tr>\n",
       "</table>"
      ],
      "text/plain": [
       "[(1, 'Sidorov', 3, 1, 1, 'IT'),\n",
       " (2, 'Petrov', 3.5, 2, 2, 'KIB'),\n",
       " (3, 'Verikov', 4, 1, 1, 'IT'),\n",
       " (4, 'Smith', 4.2, 2, 2, 'KIB'),\n",
       " (5, 'Lee', 4.5, 1, 1, 'IT'),\n",
       " (6, 'Jiw', 3.2, None, None, None)]"
      ]
     },
     "execution_count": 79,
     "metadata": {},
     "output_type": "execute_result"
    }
   ],
   "source": [
    "%%sql\n",
    "SELECT s.*, f.* \n",
    "  FROM Students s \n",
    "  LEFT\n",
    " OUTER\n",
    "  JOIN Faculties F \n",
    "    ON s.faculty_id = f.id"
   ]
  },
  {
   "cell_type": "code",
   "execution_count": 46,
   "metadata": {},
   "outputs": [
    {
     "name": "stdout",
     "output_type": "stream",
     "text": [
      " * sqlite:///chinook.db\n",
      "Done.\n"
     ]
    },
    {
     "data": {
      "text/html": [
       "<table>\n",
       "    <tr>\n",
       "        <th>id</th>\n",
       "        <th>name</th>\n",
       "        <th>gpa</th>\n",
       "        <th>faculty_id</th>\n",
       "        <th>id_1</th>\n",
       "        <th>name_1</th>\n",
       "    </tr>\n",
       "    <tr>\n",
       "        <td>1</td>\n",
       "        <td>Sidorov</td>\n",
       "        <td>3</td>\n",
       "        <td>1</td>\n",
       "        <td>1</td>\n",
       "        <td>IT</td>\n",
       "    </tr>\n",
       "    <tr>\n",
       "        <td>1</td>\n",
       "        <td>Sidorov</td>\n",
       "        <td>3</td>\n",
       "        <td>1</td>\n",
       "        <td>2</td>\n",
       "        <td>KIB</td>\n",
       "    </tr>\n",
       "    <tr>\n",
       "        <td>2</td>\n",
       "        <td>Petrov</td>\n",
       "        <td>3.5</td>\n",
       "        <td>2</td>\n",
       "        <td>1</td>\n",
       "        <td>IT</td>\n",
       "    </tr>\n",
       "    <tr>\n",
       "        <td>2</td>\n",
       "        <td>Petrov</td>\n",
       "        <td>3.5</td>\n",
       "        <td>2</td>\n",
       "        <td>2</td>\n",
       "        <td>KIB</td>\n",
       "    </tr>\n",
       "    <tr>\n",
       "        <td>3</td>\n",
       "        <td>Verikov</td>\n",
       "        <td>4</td>\n",
       "        <td>1</td>\n",
       "        <td>1</td>\n",
       "        <td>IT</td>\n",
       "    </tr>\n",
       "    <tr>\n",
       "        <td>3</td>\n",
       "        <td>Verikov</td>\n",
       "        <td>4</td>\n",
       "        <td>1</td>\n",
       "        <td>2</td>\n",
       "        <td>KIB</td>\n",
       "    </tr>\n",
       "    <tr>\n",
       "        <td>4</td>\n",
       "        <td>Smith</td>\n",
       "        <td>4.2</td>\n",
       "        <td>2</td>\n",
       "        <td>1</td>\n",
       "        <td>IT</td>\n",
       "    </tr>\n",
       "    <tr>\n",
       "        <td>4</td>\n",
       "        <td>Smith</td>\n",
       "        <td>4.2</td>\n",
       "        <td>2</td>\n",
       "        <td>2</td>\n",
       "        <td>KIB</td>\n",
       "    </tr>\n",
       "    <tr>\n",
       "        <td>5</td>\n",
       "        <td>Lee</td>\n",
       "        <td>4.5</td>\n",
       "        <td>1</td>\n",
       "        <td>1</td>\n",
       "        <td>IT</td>\n",
       "    </tr>\n",
       "    <tr>\n",
       "        <td>5</td>\n",
       "        <td>Lee</td>\n",
       "        <td>4.5</td>\n",
       "        <td>1</td>\n",
       "        <td>2</td>\n",
       "        <td>KIB</td>\n",
       "    </tr>\n",
       "    <tr>\n",
       "        <td>6</td>\n",
       "        <td>Jiw</td>\n",
       "        <td>3.2</td>\n",
       "        <td>None</td>\n",
       "        <td>1</td>\n",
       "        <td>IT</td>\n",
       "    </tr>\n",
       "    <tr>\n",
       "        <td>6</td>\n",
       "        <td>Jiw</td>\n",
       "        <td>3.2</td>\n",
       "        <td>None</td>\n",
       "        <td>2</td>\n",
       "        <td>KIB</td>\n",
       "    </tr>\n",
       "</table>"
      ],
      "text/plain": [
       "[(1, 'Sidorov', 3, 1, 1, 'IT'),\n",
       " (1, 'Sidorov', 3, 1, 2, 'KIB'),\n",
       " (2, 'Petrov', 3.5, 2, 1, 'IT'),\n",
       " (2, 'Petrov', 3.5, 2, 2, 'KIB'),\n",
       " (3, 'Verikov', 4, 1, 1, 'IT'),\n",
       " (3, 'Verikov', 4, 1, 2, 'KIB'),\n",
       " (4, 'Smith', 4.2, 2, 1, 'IT'),\n",
       " (4, 'Smith', 4.2, 2, 2, 'KIB'),\n",
       " (5, 'Lee', 4.5, 1, 1, 'IT'),\n",
       " (5, 'Lee', 4.5, 1, 2, 'KIB'),\n",
       " (6, 'Jiw', 3.2, None, 1, 'IT'),\n",
       " (6, 'Jiw', 3.2, None, 2, 'KIB')]"
      ]
     },
     "execution_count": 46,
     "metadata": {},
     "output_type": "execute_result"
    }
   ],
   "source": [
    "%%sql\n",
    "SELECT s.*, f.* \n",
    "  FROM Students s \n",
    "  CROSS\n",
    "  JOIN Faculties F"
   ]
  },
  {
   "cell_type": "code",
   "execution_count": 80,
   "metadata": {},
   "outputs": [
    {
     "name": "stdout",
     "output_type": "stream",
     "text": [
      " * sqlite:///chinook.db\n",
      "Done.\n"
     ]
    },
    {
     "data": {
      "text/html": [
       "<table>\n",
       "    <tr>\n",
       "        <th>id</th>\n",
       "        <th>name</th>\n",
       "        <th>gpa</th>\n",
       "        <th>faculty_id</th>\n",
       "        <th>id_1</th>\n",
       "        <th>name_1</th>\n",
       "    </tr>\n",
       "    <tr>\n",
       "        <td>1</td>\n",
       "        <td>Sidorov</td>\n",
       "        <td>3</td>\n",
       "        <td>1</td>\n",
       "        <td>1</td>\n",
       "        <td>IT</td>\n",
       "    </tr>\n",
       "    <tr>\n",
       "        <td>2</td>\n",
       "        <td>Petrov</td>\n",
       "        <td>3.5</td>\n",
       "        <td>2</td>\n",
       "        <td>2</td>\n",
       "        <td>KIB</td>\n",
       "    </tr>\n",
       "    <tr>\n",
       "        <td>3</td>\n",
       "        <td>Verikov</td>\n",
       "        <td>4</td>\n",
       "        <td>1</td>\n",
       "        <td>None</td>\n",
       "        <td>None</td>\n",
       "    </tr>\n",
       "    <tr>\n",
       "        <td>4</td>\n",
       "        <td>Smith</td>\n",
       "        <td>4.2</td>\n",
       "        <td>2</td>\n",
       "        <td>None</td>\n",
       "        <td>None</td>\n",
       "    </tr>\n",
       "    <tr>\n",
       "        <td>5</td>\n",
       "        <td>Lee</td>\n",
       "        <td>4.5</td>\n",
       "        <td>1</td>\n",
       "        <td>None</td>\n",
       "        <td>None</td>\n",
       "    </tr>\n",
       "    <tr>\n",
       "        <td>6</td>\n",
       "        <td>Jiw</td>\n",
       "        <td>3.2</td>\n",
       "        <td>None</td>\n",
       "        <td>None</td>\n",
       "        <td>None</td>\n",
       "    </tr>\n",
       "</table>"
      ],
      "text/plain": [
       "[(1, 'Sidorov', 3, 1, 1, 'IT'),\n",
       " (2, 'Petrov', 3.5, 2, 2, 'KIB'),\n",
       " (3, 'Verikov', 4, 1, None, None),\n",
       " (4, 'Smith', 4.2, 2, None, None),\n",
       " (5, 'Lee', 4.5, 1, None, None),\n",
       " (6, 'Jiw', 3.2, None, None, None)]"
      ]
     },
     "execution_count": 80,
     "metadata": {},
     "output_type": "execute_result"
    }
   ],
   "source": [
    "%%sql\n",
    "SELECT s.*, f.* \n",
    "  FROM Students s \n",
    "  LEFT\n",
    "  JOIN Faculties F \n",
    " USING (id)"
   ]
  },
  {
   "cell_type": "markdown",
   "metadata": {},
   "source": [
    "# Представления"
   ]
  },
  {
   "cell_type": "code",
   "execution_count": 82,
   "metadata": {},
   "outputs": [
    {
     "name": "stdout",
     "output_type": "stream",
     "text": [
      " * sqlite:///chinook.db\n",
      "Done.\n"
     ]
    },
    {
     "data": {
      "text/plain": [
       "[]"
      ]
     },
     "execution_count": 82,
     "metadata": {},
     "output_type": "execute_result"
    }
   ],
   "source": [
    "%%sql\n",
    "CREATE VIEW StudentsAndFaculties AS\n",
    "SELECT s.*, f.name as faculty_name \n",
    "  FROM Students s \n",
    "  LEFT\n",
    " OUTER\n",
    "  JOIN Faculties F \n",
    "    ON s.faculty_id = f.id"
   ]
  },
  {
   "cell_type": "code",
   "execution_count": 47,
   "metadata": {},
   "outputs": [
    {
     "name": "stdout",
     "output_type": "stream",
     "text": [
      " * sqlite:///chinook.db\n",
      "Done.\n"
     ]
    },
    {
     "data": {
      "text/html": [
       "<table>\n",
       "    <tr>\n",
       "        <th>id</th>\n",
       "        <th>name</th>\n",
       "        <th>gpa</th>\n",
       "        <th>faculty_id</th>\n",
       "        <th>faculty_name</th>\n",
       "    </tr>\n",
       "    <tr>\n",
       "        <td>1</td>\n",
       "        <td>Sidorov</td>\n",
       "        <td>3</td>\n",
       "        <td>1</td>\n",
       "        <td>IT</td>\n",
       "    </tr>\n",
       "    <tr>\n",
       "        <td>2</td>\n",
       "        <td>Petrov</td>\n",
       "        <td>3.5</td>\n",
       "        <td>2</td>\n",
       "        <td>KIB</td>\n",
       "    </tr>\n",
       "    <tr>\n",
       "        <td>3</td>\n",
       "        <td>Verikov</td>\n",
       "        <td>4</td>\n",
       "        <td>1</td>\n",
       "        <td>IT</td>\n",
       "    </tr>\n",
       "    <tr>\n",
       "        <td>4</td>\n",
       "        <td>Smith</td>\n",
       "        <td>4.2</td>\n",
       "        <td>2</td>\n",
       "        <td>KIB</td>\n",
       "    </tr>\n",
       "    <tr>\n",
       "        <td>5</td>\n",
       "        <td>Lee</td>\n",
       "        <td>4.5</td>\n",
       "        <td>1</td>\n",
       "        <td>IT</td>\n",
       "    </tr>\n",
       "    <tr>\n",
       "        <td>6</td>\n",
       "        <td>Jiw</td>\n",
       "        <td>3.2</td>\n",
       "        <td>None</td>\n",
       "        <td>None</td>\n",
       "    </tr>\n",
       "</table>"
      ],
      "text/plain": [
       "[(1, 'Sidorov', 3, 1, 'IT'),\n",
       " (2, 'Petrov', 3.5, 2, 'KIB'),\n",
       " (3, 'Verikov', 4, 1, 'IT'),\n",
       " (4, 'Smith', 4.2, 2, 'KIB'),\n",
       " (5, 'Lee', 4.5, 1, 'IT'),\n",
       " (6, 'Jiw', 3.2, None, None)]"
      ]
     },
     "execution_count": 47,
     "metadata": {},
     "output_type": "execute_result"
    }
   ],
   "source": [
    "%%sql\n",
    "SELECT * \n",
    "  FROM StudentsAndFaculties"
   ]
  },
  {
   "cell_type": "markdown",
   "metadata": {},
   "source": [
    "## CASE WHEN"
   ]
  },
  {
   "cell_type": "code",
   "execution_count": 84,
   "metadata": {},
   "outputs": [
    {
     "name": "stdout",
     "output_type": "stream",
     "text": [
      " * sqlite:///chinook.db\n",
      "Done.\n"
     ]
    },
    {
     "data": {
      "text/html": [
       "<table>\n",
       "    <tr>\n",
       "        <th>mark</th>\n",
       "    </tr>\n",
       "    <tr>\n",
       "        <td>C</td>\n",
       "    </tr>\n",
       "    <tr>\n",
       "        <td>B</td>\n",
       "    </tr>\n",
       "    <tr>\n",
       "        <td>B</td>\n",
       "    </tr>\n",
       "    <tr>\n",
       "        <td>A</td>\n",
       "    </tr>\n",
       "    <tr>\n",
       "        <td>A</td>\n",
       "    </tr>\n",
       "    <tr>\n",
       "        <td>B</td>\n",
       "    </tr>\n",
       "</table>"
      ],
      "text/plain": [
       "[('C',), ('B',), ('B',), ('A',), ('A',), ('B',)]"
      ]
     },
     "execution_count": 84,
     "metadata": {},
     "output_type": "execute_result"
    }
   ],
   "source": [
    "%%sql\n",
    "SELECT CASE WHEN gpa > 4.0 \n",
    "              THEN 'A'\n",
    "            WHEN gpa > 3.0\n",
    "              THEN 'B'\n",
    "            ELSE 'C'\n",
    "       END as mark\n",
    "  FROM Students "
   ]
  },
  {
   "cell_type": "code",
   "execution_count": 85,
   "metadata": {},
   "outputs": [
    {
     "name": "stdout",
     "output_type": "stream",
     "text": [
      " * sqlite:///chinook.db\n",
      "Done.\n"
     ]
    },
    {
     "data": {
      "text/html": [
       "<table>\n",
       "    <tr>\n",
       "        <th>mark</th>\n",
       "        <th>cnt</th>\n",
       "    </tr>\n",
       "    <tr>\n",
       "        <td>A</td>\n",
       "        <td>2</td>\n",
       "    </tr>\n",
       "    <tr>\n",
       "        <td>B</td>\n",
       "        <td>3</td>\n",
       "    </tr>\n",
       "    <tr>\n",
       "        <td>C</td>\n",
       "        <td>1</td>\n",
       "    </tr>\n",
       "</table>"
      ],
      "text/plain": [
       "[('A', 2), ('B', 3), ('C', 1)]"
      ]
     },
     "execution_count": 85,
     "metadata": {},
     "output_type": "execute_result"
    }
   ],
   "source": [
    "%%sql\n",
    "SELECT CASE WHEN gpa > 4.0 \n",
    "              THEN 'A'\n",
    "            WHEN gpa > 3.0\n",
    "              THEN 'B'\n",
    "            ELSE 'C'\n",
    "       END as mark,\n",
    "       count(*) as cnt\n",
    "  FROM Students \n",
    " GROUP \n",
    "    BY CASE WHEN gpa > 4.0 \n",
    "              THEN 'A'\n",
    "            WHEN gpa > 3.0\n",
    "              THEN 'B'\n",
    "            ELSE 'C'\n",
    "       END"
   ]
  },
  {
   "cell_type": "code",
   "execution_count": null,
   "metadata": {},
   "outputs": [],
   "source": []
  },
  {
   "cell_type": "code",
   "execution_count": 50,
   "metadata": {},
   "outputs": [
    {
     "name": "stdout",
     "output_type": "stream",
     "text": [
      " * sqlite:///chinook.db\n",
      "Done.\n"
     ]
    },
    {
     "data": {
      "text/html": [
       "<table>\n",
       "    <tr>\n",
       "        <th>x</th>\n",
       "    </tr>\n",
       "    <tr>\n",
       "        <td>1</td>\n",
       "    </tr>\n",
       "    <tr>\n",
       "        <td>2</td>\n",
       "    </tr>\n",
       "    <tr>\n",
       "        <td>3</td>\n",
       "    </tr>\n",
       "    <tr>\n",
       "        <td>4</td>\n",
       "    </tr>\n",
       "    <tr>\n",
       "        <td>5</td>\n",
       "    </tr>\n",
       "    <tr>\n",
       "        <td>6</td>\n",
       "    </tr>\n",
       "    <tr>\n",
       "        <td>7</td>\n",
       "    </tr>\n",
       "    <tr>\n",
       "        <td>8</td>\n",
       "    </tr>\n",
       "    <tr>\n",
       "        <td>9</td>\n",
       "    </tr>\n",
       "    <tr>\n",
       "        <td>10</td>\n",
       "    </tr>\n",
       "    <tr>\n",
       "        <td>11</td>\n",
       "    </tr>\n",
       "    <tr>\n",
       "        <td>12</td>\n",
       "    </tr>\n",
       "    <tr>\n",
       "        <td>13</td>\n",
       "    </tr>\n",
       "    <tr>\n",
       "        <td>14</td>\n",
       "    </tr>\n",
       "    <tr>\n",
       "        <td>15</td>\n",
       "    </tr>\n",
       "    <tr>\n",
       "        <td>16</td>\n",
       "    </tr>\n",
       "    <tr>\n",
       "        <td>17</td>\n",
       "    </tr>\n",
       "    <tr>\n",
       "        <td>18</td>\n",
       "    </tr>\n",
       "    <tr>\n",
       "        <td>19</td>\n",
       "    </tr>\n",
       "    <tr>\n",
       "        <td>20</td>\n",
       "    </tr>\n",
       "    <tr>\n",
       "        <td>21</td>\n",
       "    </tr>\n",
       "    <tr>\n",
       "        <td>22</td>\n",
       "    </tr>\n",
       "    <tr>\n",
       "        <td>23</td>\n",
       "    </tr>\n",
       "    <tr>\n",
       "        <td>24</td>\n",
       "    </tr>\n",
       "    <tr>\n",
       "        <td>25</td>\n",
       "    </tr>\n",
       "    <tr>\n",
       "        <td>26</td>\n",
       "    </tr>\n",
       "    <tr>\n",
       "        <td>27</td>\n",
       "    </tr>\n",
       "    <tr>\n",
       "        <td>28</td>\n",
       "    </tr>\n",
       "    <tr>\n",
       "        <td>29</td>\n",
       "    </tr>\n",
       "    <tr>\n",
       "        <td>30</td>\n",
       "    </tr>\n",
       "    <tr>\n",
       "        <td>31</td>\n",
       "    </tr>\n",
       "    <tr>\n",
       "        <td>32</td>\n",
       "    </tr>\n",
       "    <tr>\n",
       "        <td>33</td>\n",
       "    </tr>\n",
       "    <tr>\n",
       "        <td>34</td>\n",
       "    </tr>\n",
       "    <tr>\n",
       "        <td>35</td>\n",
       "    </tr>\n",
       "    <tr>\n",
       "        <td>36</td>\n",
       "    </tr>\n",
       "    <tr>\n",
       "        <td>37</td>\n",
       "    </tr>\n",
       "    <tr>\n",
       "        <td>38</td>\n",
       "    </tr>\n",
       "    <tr>\n",
       "        <td>39</td>\n",
       "    </tr>\n",
       "    <tr>\n",
       "        <td>40</td>\n",
       "    </tr>\n",
       "    <tr>\n",
       "        <td>41</td>\n",
       "    </tr>\n",
       "    <tr>\n",
       "        <td>42</td>\n",
       "    </tr>\n",
       "    <tr>\n",
       "        <td>43</td>\n",
       "    </tr>\n",
       "    <tr>\n",
       "        <td>44</td>\n",
       "    </tr>\n",
       "    <tr>\n",
       "        <td>45</td>\n",
       "    </tr>\n",
       "    <tr>\n",
       "        <td>46</td>\n",
       "    </tr>\n",
       "    <tr>\n",
       "        <td>47</td>\n",
       "    </tr>\n",
       "    <tr>\n",
       "        <td>48</td>\n",
       "    </tr>\n",
       "    <tr>\n",
       "        <td>49</td>\n",
       "    </tr>\n",
       "    <tr>\n",
       "        <td>50</td>\n",
       "    </tr>\n",
       "    <tr>\n",
       "        <td>51</td>\n",
       "    </tr>\n",
       "    <tr>\n",
       "        <td>52</td>\n",
       "    </tr>\n",
       "    <tr>\n",
       "        <td>53</td>\n",
       "    </tr>\n",
       "    <tr>\n",
       "        <td>54</td>\n",
       "    </tr>\n",
       "    <tr>\n",
       "        <td>55</td>\n",
       "    </tr>\n",
       "    <tr>\n",
       "        <td>56</td>\n",
       "    </tr>\n",
       "    <tr>\n",
       "        <td>57</td>\n",
       "    </tr>\n",
       "    <tr>\n",
       "        <td>58</td>\n",
       "    </tr>\n",
       "    <tr>\n",
       "        <td>59</td>\n",
       "    </tr>\n",
       "    <tr>\n",
       "        <td>60</td>\n",
       "    </tr>\n",
       "    <tr>\n",
       "        <td>61</td>\n",
       "    </tr>\n",
       "    <tr>\n",
       "        <td>62</td>\n",
       "    </tr>\n",
       "    <tr>\n",
       "        <td>63</td>\n",
       "    </tr>\n",
       "    <tr>\n",
       "        <td>64</td>\n",
       "    </tr>\n",
       "    <tr>\n",
       "        <td>65</td>\n",
       "    </tr>\n",
       "    <tr>\n",
       "        <td>66</td>\n",
       "    </tr>\n",
       "    <tr>\n",
       "        <td>67</td>\n",
       "    </tr>\n",
       "    <tr>\n",
       "        <td>68</td>\n",
       "    </tr>\n",
       "    <tr>\n",
       "        <td>69</td>\n",
       "    </tr>\n",
       "    <tr>\n",
       "        <td>70</td>\n",
       "    </tr>\n",
       "    <tr>\n",
       "        <td>71</td>\n",
       "    </tr>\n",
       "    <tr>\n",
       "        <td>72</td>\n",
       "    </tr>\n",
       "    <tr>\n",
       "        <td>73</td>\n",
       "    </tr>\n",
       "    <tr>\n",
       "        <td>74</td>\n",
       "    </tr>\n",
       "    <tr>\n",
       "        <td>75</td>\n",
       "    </tr>\n",
       "    <tr>\n",
       "        <td>76</td>\n",
       "    </tr>\n",
       "    <tr>\n",
       "        <td>77</td>\n",
       "    </tr>\n",
       "    <tr>\n",
       "        <td>78</td>\n",
       "    </tr>\n",
       "    <tr>\n",
       "        <td>79</td>\n",
       "    </tr>\n",
       "    <tr>\n",
       "        <td>80</td>\n",
       "    </tr>\n",
       "    <tr>\n",
       "        <td>81</td>\n",
       "    </tr>\n",
       "    <tr>\n",
       "        <td>82</td>\n",
       "    </tr>\n",
       "    <tr>\n",
       "        <td>83</td>\n",
       "    </tr>\n",
       "    <tr>\n",
       "        <td>84</td>\n",
       "    </tr>\n",
       "    <tr>\n",
       "        <td>85</td>\n",
       "    </tr>\n",
       "    <tr>\n",
       "        <td>86</td>\n",
       "    </tr>\n",
       "    <tr>\n",
       "        <td>87</td>\n",
       "    </tr>\n",
       "    <tr>\n",
       "        <td>88</td>\n",
       "    </tr>\n",
       "    <tr>\n",
       "        <td>89</td>\n",
       "    </tr>\n",
       "    <tr>\n",
       "        <td>90</td>\n",
       "    </tr>\n",
       "    <tr>\n",
       "        <td>91</td>\n",
       "    </tr>\n",
       "    <tr>\n",
       "        <td>92</td>\n",
       "    </tr>\n",
       "    <tr>\n",
       "        <td>93</td>\n",
       "    </tr>\n",
       "    <tr>\n",
       "        <td>94</td>\n",
       "    </tr>\n",
       "    <tr>\n",
       "        <td>95</td>\n",
       "    </tr>\n",
       "    <tr>\n",
       "        <td>96</td>\n",
       "    </tr>\n",
       "    <tr>\n",
       "        <td>97</td>\n",
       "    </tr>\n",
       "    <tr>\n",
       "        <td>98</td>\n",
       "    </tr>\n",
       "    <tr>\n",
       "        <td>99</td>\n",
       "    </tr>\n",
       "    <tr>\n",
       "        <td>100</td>\n",
       "    </tr>\n",
       "</table>"
      ],
      "text/plain": [
       "[(1,),\n",
       " (2,),\n",
       " (3,),\n",
       " (4,),\n",
       " (5,),\n",
       " (6,),\n",
       " (7,),\n",
       " (8,),\n",
       " (9,),\n",
       " (10,),\n",
       " (11,),\n",
       " (12,),\n",
       " (13,),\n",
       " (14,),\n",
       " (15,),\n",
       " (16,),\n",
       " (17,),\n",
       " (18,),\n",
       " (19,),\n",
       " (20,),\n",
       " (21,),\n",
       " (22,),\n",
       " (23,),\n",
       " (24,),\n",
       " (25,),\n",
       " (26,),\n",
       " (27,),\n",
       " (28,),\n",
       " (29,),\n",
       " (30,),\n",
       " (31,),\n",
       " (32,),\n",
       " (33,),\n",
       " (34,),\n",
       " (35,),\n",
       " (36,),\n",
       " (37,),\n",
       " (38,),\n",
       " (39,),\n",
       " (40,),\n",
       " (41,),\n",
       " (42,),\n",
       " (43,),\n",
       " (44,),\n",
       " (45,),\n",
       " (46,),\n",
       " (47,),\n",
       " (48,),\n",
       " (49,),\n",
       " (50,),\n",
       " (51,),\n",
       " (52,),\n",
       " (53,),\n",
       " (54,),\n",
       " (55,),\n",
       " (56,),\n",
       " (57,),\n",
       " (58,),\n",
       " (59,),\n",
       " (60,),\n",
       " (61,),\n",
       " (62,),\n",
       " (63,),\n",
       " (64,),\n",
       " (65,),\n",
       " (66,),\n",
       " (67,),\n",
       " (68,),\n",
       " (69,),\n",
       " (70,),\n",
       " (71,),\n",
       " (72,),\n",
       " (73,),\n",
       " (74,),\n",
       " (75,),\n",
       " (76,),\n",
       " (77,),\n",
       " (78,),\n",
       " (79,),\n",
       " (80,),\n",
       " (81,),\n",
       " (82,),\n",
       " (83,),\n",
       " (84,),\n",
       " (85,),\n",
       " (86,),\n",
       " (87,),\n",
       " (88,),\n",
       " (89,),\n",
       " (90,),\n",
       " (91,),\n",
       " (92,),\n",
       " (93,),\n",
       " (94,),\n",
       " (95,),\n",
       " (96,),\n",
       " (97,),\n",
       " (98,),\n",
       " (99,),\n",
       " (100,)]"
      ]
     },
     "execution_count": 50,
     "metadata": {},
     "output_type": "execute_result"
    }
   ],
   "source": [
    "%%sql\n",
    "WITH RECURSIVE cnt(x) AS \n",
    "(\n",
    "VALUES(1) \n",
    " \n",
    " UNION ALL \n",
    "    \n",
    "SELECT x+1 FROM cnt \n",
    "WHERE x < 100\n",
    ")\n",
    " SELECT x FROM cnt;\n"
   ]
  },
  {
   "cell_type": "code",
   "execution_count": 54,
   "metadata": {},
   "outputs": [
    {
     "name": "stdout",
     "output_type": "stream",
     "text": [
      " * sqlite:///chinook.db\n",
      "Done.\n"
     ]
    },
    {
     "data": {
      "text/html": [
       "<table>\n",
       "    <tr>\n",
       "        <th>title_path</th>\n",
       "        <th>manager_id</th>\n",
       "    </tr>\n",
       "    <tr>\n",
       "        <td>Director</td>\n",
       "        <td>1</td>\n",
       "    </tr>\n",
       "    <tr>\n",
       "        <td>Director-&gt;Vice President</td>\n",
       "        <td>2</td>\n",
       "    </tr>\n",
       "    <tr>\n",
       "        <td>Director-&gt;Vice President</td>\n",
       "        <td>3</td>\n",
       "    </tr>\n",
       "    <tr>\n",
       "        <td>Director-&gt;Vice President-&gt;Developer</td>\n",
       "        <td>4</td>\n",
       "    </tr>\n",
       "    <tr>\n",
       "        <td>Director-&gt;Vice President-&gt;Analyst</td>\n",
       "        <td>5</td>\n",
       "    </tr>\n",
       "    <tr>\n",
       "        <td>Director-&gt;Vice President-&gt;Engineer</td>\n",
       "        <td>6</td>\n",
       "    </tr>\n",
       "    <tr>\n",
       "        <td>Director-&gt;Vice President-&gt;Engineer</td>\n",
       "        <td>7</td>\n",
       "    </tr>\n",
       "</table>"
      ],
      "text/plain": [
       "[('Director', 1),\n",
       " ('Director->Vice President', 2),\n",
       " ('Director->Vice President', 3),\n",
       " ('Director->Vice President->Developer', 4),\n",
       " ('Director->Vice President->Analyst', 5),\n",
       " ('Director->Vice President->Engineer', 6),\n",
       " ('Director->Vice President->Engineer', 7)]"
      ]
     },
     "execution_count": 54,
     "metadata": {},
     "output_type": "execute_result"
    }
   ],
   "source": [
    "%%sql\n",
    "WITH recursive ManagerPath(title_path, manager_id) AS \n",
    "(\n",
    "  SELECT title as title_path, id as manager_id\n",
    "    FROM Employee\n",
    "  WHERE manager_id is null\n",
    "    \n",
    "    UNION \n",
    "    \n",
    "  SELECT ManagerPath.title_path || '->' || Employee.title as title_path,\n",
    "         id as manager_id\n",
    "    FROM ManagerPath \n",
    "    INNER \n",
    "    JOIN Employee\n",
    "      ON ManagerPath.manager_id = Employee.manager_id\n",
    ")\n",
    "select * \n",
    "from ManagerPath"
   ]
  },
  {
   "cell_type": "code",
   "execution_count": 51,
   "metadata": {},
   "outputs": [
    {
     "name": "stdout",
     "output_type": "stream",
     "text": [
      " * sqlite:///chinook.db\n",
      "Done.\n"
     ]
    },
    {
     "data": {
      "text/html": [
       "<table>\n",
       "    <tr>\n",
       "        <th>id</th>\n",
       "        <th>name</th>\n",
       "        <th>phone</th>\n",
       "        <th>title</th>\n",
       "        <th>manager_id</th>\n",
       "    </tr>\n",
       "    <tr>\n",
       "        <td>1</td>\n",
       "        <td>Vasyugin</td>\n",
       "        <td>+111</td>\n",
       "        <td>Director</td>\n",
       "        <td>None</td>\n",
       "    </tr>\n",
       "    <tr>\n",
       "        <td>2</td>\n",
       "        <td>Jones</td>\n",
       "        <td>+112</td>\n",
       "        <td>Vice President</td>\n",
       "        <td>1</td>\n",
       "    </tr>\n",
       "    <tr>\n",
       "        <td>3</td>\n",
       "        <td>Smith</td>\n",
       "        <td>+113</td>\n",
       "        <td>Vice President</td>\n",
       "        <td>1</td>\n",
       "    </tr>\n",
       "    <tr>\n",
       "        <td>4</td>\n",
       "        <td>Velaskes</td>\n",
       "        <td>+114</td>\n",
       "        <td>Developer</td>\n",
       "        <td>2</td>\n",
       "    </tr>\n",
       "    <tr>\n",
       "        <td>5</td>\n",
       "        <td>Simon</td>\n",
       "        <td>+115</td>\n",
       "        <td>Analyst</td>\n",
       "        <td>2</td>\n",
       "    </tr>\n",
       "    <tr>\n",
       "        <td>6</td>\n",
       "        <td>Johnson</td>\n",
       "        <td>+116</td>\n",
       "        <td>Engineer</td>\n",
       "        <td>3</td>\n",
       "    </tr>\n",
       "    <tr>\n",
       "        <td>7</td>\n",
       "        <td>Lee</td>\n",
       "        <td>+117</td>\n",
       "        <td>Engineer</td>\n",
       "        <td>3</td>\n",
       "    </tr>\n",
       "</table>"
      ],
      "text/plain": [
       "[(1, 'Vasyugin', '+111', 'Director', None),\n",
       " (2, 'Jones', '+112', 'Vice President', 1),\n",
       " (3, 'Smith', '+113', 'Vice President', 1),\n",
       " (4, 'Velaskes', '+114', 'Developer', 2),\n",
       " (5, 'Simon', '+115', 'Analyst', 2),\n",
       " (6, 'Johnson', '+116', 'Engineer', 3),\n",
       " (7, 'Lee', '+117', 'Engineer', 3)]"
      ]
     },
     "execution_count": 51,
     "metadata": {},
     "output_type": "execute_result"
    }
   ],
   "source": [
    "%%sql \n",
    "SELECT * \n",
    " FROM Employee"
   ]
  },
  {
   "cell_type": "code",
   "execution_count": null,
   "metadata": {},
   "outputs": [],
   "source": []
  },
  {
   "cell_type": "code",
   "execution_count": null,
   "metadata": {},
   "outputs": [],
   "source": []
  }
 ],
 "metadata": {
  "kernelspec": {
   "display_name": "Python 3",
   "language": "python",
   "name": "python3"
  },
  "language_info": {
   "codemirror_mode": {
    "name": "ipython",
    "version": 3
   },
   "file_extension": ".py",
   "mimetype": "text/x-python",
   "name": "python",
   "nbconvert_exporter": "python",
   "pygments_lexer": "ipython3",
   "version": "3.7.6"
  }
 },
 "nbformat": 4,
 "nbformat_minor": 4
}
