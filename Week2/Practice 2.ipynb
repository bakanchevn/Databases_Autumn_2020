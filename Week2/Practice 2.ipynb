{
 "cells": [
  {
   "cell_type": "code",
   "execution_count": 1,
   "metadata": {},
   "outputs": [
    {
     "data": {
      "text/plain": [
       "'Connected: @chinook.db'"
      ]
     },
     "execution_count": 1,
     "metadata": {},
     "output_type": "execute_result"
    }
   ],
   "source": [
    "%load_ext sql\n",
    "%sql sqlite:///chinook.db"
   ]
  },
  {
   "cell_type": "code",
   "execution_count": 34,
   "metadata": {},
   "outputs": [
    {
     "name": "stdout",
     "output_type": "stream",
     "text": [
      " * sqlite:///chinook.db\n",
      "Done.\n",
      "Done.\n",
      "Done.\n"
     ]
    },
    {
     "data": {
      "text/plain": [
       "[]"
      ]
     },
     "execution_count": 34,
     "metadata": {},
     "output_type": "execute_result"
    }
   ],
   "source": [
    "%%sql\n",
    "DROP TABLE IF EXISTS Employee;\n",
    "\n",
    "DROP TABLE IF EXISTS Students;\n",
    "DROP TABLE IF EXISTS Faculties;"
   ]
  },
  {
   "cell_type": "code",
   "execution_count": 35,
   "metadata": {},
   "outputs": [
    {
     "name": "stdout",
     "output_type": "stream",
     "text": [
      " * sqlite:///chinook.db\n",
      "Done.\n",
      "Done.\n",
      "Done.\n",
      "Done.\n"
     ]
    },
    {
     "data": {
      "text/plain": [
       "[]"
      ]
     },
     "execution_count": 35,
     "metadata": {},
     "output_type": "execute_result"
    }
   ],
   "source": [
    "%%sql\n",
    "PRAGMA foreign_keys = ON;\n",
    "\n",
    "CREATE TABLE Employee(\n",
    "        id int primary key,\n",
    "        name varchar(50) not null,\n",
    "        phone varchar(50),\n",
    "        title varchar(50) not null,\n",
    "        manager_id int,\n",
    "        foreign key (manager_id) references  Employee(id)\n",
    ");\n",
    "\n",
    "\n",
    "CREATE TABLE Faculties(\n",
    "    id integer primary key, \n",
    "    name varchar(50) not null,\n",
    "    unique (name)\n",
    ");\n",
    "\n",
    "CREATE TABLE Students(\n",
    "    id integer primary key, \n",
    "    name varchar(50) not null,\n",
    "    gpa decimal(15,2), \n",
    "    faculty_id int, \n",
    "    foreign key (faculty_id) references Faculties(id)\n",
    ")\n"
   ]
  },
  {
   "cell_type": "code",
   "execution_count": 36,
   "metadata": {},
   "outputs": [
    {
     "name": "stdout",
     "output_type": "stream",
     "text": [
      " * sqlite:///chinook.db\n",
      "1 rows affected.\n",
      "1 rows affected.\n",
      "1 rows affected.\n",
      "1 rows affected.\n",
      "1 rows affected.\n",
      "1 rows affected.\n",
      "1 rows affected.\n",
      "1 rows affected.\n",
      "1 rows affected.\n",
      "1 rows affected.\n",
      "1 rows affected.\n",
      "1 rows affected.\n",
      "1 rows affected.\n",
      "1 rows affected.\n",
      "1 rows affected.\n"
     ]
    },
    {
     "data": {
      "text/plain": [
       "[]"
      ]
     },
     "execution_count": 36,
     "metadata": {},
     "output_type": "execute_result"
    }
   ],
   "source": [
    "%%sql\n",
    "insert into Faculties values (1, 'IT');\n",
    "insert into Faculties values (2, 'KIB');\n",
    "\n",
    "insert into Students values (1, 'Sidorov', 3.0, 1);\n",
    "insert into Students values (2, 'Petrov', 3.5, 2);\n",
    "insert into Students values (3, 'Verikov', 4.0, 1);\n",
    "insert into Students values (4, 'Smith', 4.2, 2);\n",
    "insert into Students values (5, 'Lee', 4.5, 1);\n",
    "insert into Students values (6, 'Jiw', 3.2, null);\n",
    "\n",
    "insert into Employee values  (1, 'Vasyugin', '+111', 'Director', null);\n",
    "insert into Employee values  (2, 'Jones', '+112', 'Vice President', 1);\n",
    "insert into Employee values  (3, 'Smith', '+113', 'Vice President', 1);\n",
    "insert into Employee values (4, 'Velaskes', '+114', 'Developer', 2);\n",
    "insert into Employee values (5, 'Simon', '+115', 'Analyst', 2);\n",
    "insert into Employee values (6, 'Johnson', '+116', 'Engineer', 3);\n",
    "insert into Employee values (7, 'Lee', '+117', 'Engineer', 3);"
   ]
  },
  {
   "cell_type": "markdown",
   "metadata": {},
   "source": [
    "# Работа с множествами"
   ]
  },
  {
   "cell_type": "markdown",
   "metadata": {},
   "source": [
    "## Операция объединения"
   ]
  },
  {
   "cell_type": "markdown",
   "metadata": {},
   "source": [
    "Вывести именя студентов со средним баллом, больше 3, или с именем, начинающимся с S."
   ]
  },
  {
   "cell_type": "code",
   "execution_count": 23,
   "metadata": {},
   "outputs": [
    {
     "name": "stdout",
     "output_type": "stream",
     "text": [
      " * sqlite:///chinook.db\n",
      "Done.\n"
     ]
    },
    {
     "data": {
      "text/html": [
       "<table>\n",
       "    <tr>\n",
       "        <th>name</th>\n",
       "    </tr>\n",
       "    <tr>\n",
       "        <td>Lee</td>\n",
       "    </tr>\n",
       "    <tr>\n",
       "        <td>Petrov</td>\n",
       "    </tr>\n",
       "    <tr>\n",
       "        <td>Sidorov</td>\n",
       "    </tr>\n",
       "    <tr>\n",
       "        <td>Smith</td>\n",
       "    </tr>\n",
       "    <tr>\n",
       "        <td>Verikov</td>\n",
       "    </tr>\n",
       "</table>"
      ],
      "text/plain": [
       "[('Lee',), ('Petrov',), ('Sidorov',), ('Smith',), ('Verikov',)]"
      ]
     },
     "execution_count": 23,
     "metadata": {},
     "output_type": "execute_result"
    }
   ],
   "source": [
    "%%sql \n",
    "SELECT name \n",
    "  FROM Students \n",
    " WHERE name like 'S%'\n",
    "\n",
    " UNION \n",
    "\n",
    "SELECT name \n",
    "  FROM Students \n",
    " WHERE gpa > 3"
   ]
  },
  {
   "cell_type": "code",
   "execution_count": 24,
   "metadata": {},
   "outputs": [
    {
     "name": "stdout",
     "output_type": "stream",
     "text": [
      " * sqlite:///chinook.db\n",
      "Done.\n"
     ]
    },
    {
     "data": {
      "text/html": [
       "<table>\n",
       "    <tr>\n",
       "        <th>name</th>\n",
       "    </tr>\n",
       "    <tr>\n",
       "        <td>Sidorov</td>\n",
       "    </tr>\n",
       "    <tr>\n",
       "        <td>Smith</td>\n",
       "    </tr>\n",
       "    <tr>\n",
       "        <td>Petrov</td>\n",
       "    </tr>\n",
       "    <tr>\n",
       "        <td>Verikov</td>\n",
       "    </tr>\n",
       "    <tr>\n",
       "        <td>Smith</td>\n",
       "    </tr>\n",
       "    <tr>\n",
       "        <td>Lee</td>\n",
       "    </tr>\n",
       "</table>"
      ],
      "text/plain": [
       "[('Sidorov',), ('Smith',), ('Petrov',), ('Verikov',), ('Smith',), ('Lee',)]"
      ]
     },
     "execution_count": 24,
     "metadata": {},
     "output_type": "execute_result"
    }
   ],
   "source": [
    "%%sql \n",
    "SELECT name \n",
    "  FROM Students \n",
    " WHERE name like 'S%'\n",
    "\n",
    " UNION ALL\n",
    "\n",
    "SELECT name \n",
    "  FROM Students \n",
    " WHERE gpa > 3"
   ]
  },
  {
   "cell_type": "markdown",
   "metadata": {},
   "source": [
    "Вывести имена студентов и имена сотрудников, и указать 1, если студент, 0, если сотрудник"
   ]
  },
  {
   "cell_type": "code",
   "execution_count": 25,
   "metadata": {},
   "outputs": [
    {
     "name": "stdout",
     "output_type": "stream",
     "text": [
      " * sqlite:///chinook.db\n",
      "Done.\n"
     ]
    },
    {
     "data": {
      "text/html": [
       "<table>\n",
       "    <tr>\n",
       "        <th>name</th>\n",
       "        <th>person_type</th>\n",
       "    </tr>\n",
       "    <tr>\n",
       "        <td>Johnson</td>\n",
       "        <td>0</td>\n",
       "    </tr>\n",
       "    <tr>\n",
       "        <td>Jones</td>\n",
       "        <td>0</td>\n",
       "    </tr>\n",
       "    <tr>\n",
       "        <td>Lee</td>\n",
       "        <td>0</td>\n",
       "    </tr>\n",
       "    <tr>\n",
       "        <td>Lee</td>\n",
       "        <td>1</td>\n",
       "    </tr>\n",
       "    <tr>\n",
       "        <td>Petrov</td>\n",
       "        <td>1</td>\n",
       "    </tr>\n",
       "    <tr>\n",
       "        <td>Sidorov</td>\n",
       "        <td>1</td>\n",
       "    </tr>\n",
       "    <tr>\n",
       "        <td>Simon</td>\n",
       "        <td>0</td>\n",
       "    </tr>\n",
       "    <tr>\n",
       "        <td>Smith</td>\n",
       "        <td>0</td>\n",
       "    </tr>\n",
       "    <tr>\n",
       "        <td>Smith</td>\n",
       "        <td>1</td>\n",
       "    </tr>\n",
       "    <tr>\n",
       "        <td>Vasyugin</td>\n",
       "        <td>0</td>\n",
       "    </tr>\n",
       "    <tr>\n",
       "        <td>Velaskes</td>\n",
       "        <td>0</td>\n",
       "    </tr>\n",
       "    <tr>\n",
       "        <td>Verikov</td>\n",
       "        <td>1</td>\n",
       "    </tr>\n",
       "</table>"
      ],
      "text/plain": [
       "[('Johnson', 0),\n",
       " ('Jones', 0),\n",
       " ('Lee', 0),\n",
       " ('Lee', 1),\n",
       " ('Petrov', 1),\n",
       " ('Sidorov', 1),\n",
       " ('Simon', 0),\n",
       " ('Smith', 0),\n",
       " ('Smith', 1),\n",
       " ('Vasyugin', 0),\n",
       " ('Velaskes', 0),\n",
       " ('Verikov', 1)]"
      ]
     },
     "execution_count": 25,
     "metadata": {},
     "output_type": "execute_result"
    }
   ],
   "source": [
    "%%sql\n",
    "SELECT name, \n",
    "       1 as person_type\n",
    "  FROM Students \n",
    "    \n",
    " UNION \n",
    "\n",
    "SELECT name,\n",
    "       0 as person_type\n",
    "  FROM Employee"
   ]
  },
  {
   "cell_type": "markdown",
   "metadata": {},
   "source": [
    "## Операция пересечения"
   ]
  },
  {
   "cell_type": "markdown",
   "metadata": {},
   "source": [
    "Вывести такие имена, которые есть одновременно у сотрудников и студентов"
   ]
  },
  {
   "cell_type": "code",
   "execution_count": 28,
   "metadata": {},
   "outputs": [
    {
     "name": "stdout",
     "output_type": "stream",
     "text": [
      " * sqlite:///chinook.db\n",
      "Done.\n"
     ]
    },
    {
     "data": {
      "text/html": [
       "<table>\n",
       "    <tr>\n",
       "        <th>name</th>\n",
       "    </tr>\n",
       "    <tr>\n",
       "        <td>Lee</td>\n",
       "    </tr>\n",
       "    <tr>\n",
       "        <td>Smith</td>\n",
       "    </tr>\n",
       "</table>"
      ],
      "text/plain": [
       "[('Lee',), ('Smith',)]"
      ]
     },
     "execution_count": 28,
     "metadata": {},
     "output_type": "execute_result"
    }
   ],
   "source": [
    "%%sql\n",
    "SELECT name\n",
    "  FROM Students \n",
    "    \n",
    "INTERSECT \n",
    "\n",
    "SELECT name\n",
    "  FROM Employee"
   ]
  },
  {
   "cell_type": "markdown",
   "metadata": {},
   "source": [
    "## Операция разности"
   ]
  },
  {
   "cell_type": "markdown",
   "metadata": {},
   "source": [
    "Вывести имена, которые встречаются среди студентов, но которых нет у сотрудников"
   ]
  },
  {
   "cell_type": "code",
   "execution_count": 32,
   "metadata": {},
   "outputs": [
    {
     "name": "stdout",
     "output_type": "stream",
     "text": [
      " * sqlite:///chinook.db\n",
      "Done.\n"
     ]
    },
    {
     "data": {
      "text/html": [
       "<table>\n",
       "    <tr>\n",
       "        <th>name</th>\n",
       "    </tr>\n",
       "    <tr>\n",
       "        <td>Petrov</td>\n",
       "    </tr>\n",
       "    <tr>\n",
       "        <td>Sidorov</td>\n",
       "    </tr>\n",
       "    <tr>\n",
       "        <td>Verikov</td>\n",
       "    </tr>\n",
       "</table>"
      ],
      "text/plain": [
       "[('Petrov',), ('Sidorov',), ('Verikov',)]"
      ]
     },
     "execution_count": 32,
     "metadata": {},
     "output_type": "execute_result"
    }
   ],
   "source": [
    "%%sql\n",
    "SELECT name\n",
    "  FROM Students \n",
    "    \n",
    "EXCEPT \n",
    "\n",
    "SELECT name\n",
    "  FROM Employee"
   ]
  },
  {
   "cell_type": "markdown",
   "metadata": {},
   "source": [
    "# Работа с null"
   ]
  },
  {
   "cell_type": "markdown",
   "metadata": {},
   "source": [
    "Вывести студентов, у которых не задан факультет"
   ]
  },
  {
   "cell_type": "markdown",
   "metadata": {},
   "source": [
    "Неверно:"
   ]
  },
  {
   "cell_type": "code",
   "execution_count": 37,
   "metadata": {},
   "outputs": [
    {
     "name": "stdout",
     "output_type": "stream",
     "text": [
      " * sqlite:///chinook.db\n",
      "Done.\n"
     ]
    },
    {
     "data": {
      "text/html": [
       "<table>\n",
       "    <tr>\n",
       "        <th>id</th>\n",
       "        <th>name</th>\n",
       "        <th>gpa</th>\n",
       "        <th>faculty_id</th>\n",
       "    </tr>\n",
       "</table>"
      ],
      "text/plain": [
       "[]"
      ]
     },
     "execution_count": 37,
     "metadata": {},
     "output_type": "execute_result"
    }
   ],
   "source": [
    "%%sql \n",
    "SELECT *\n",
    "  FROM Students\n",
    " WHERE faculty_id = null"
   ]
  },
  {
   "cell_type": "markdown",
   "metadata": {},
   "source": [
    "Верно:"
   ]
  },
  {
   "cell_type": "code",
   "execution_count": 39,
   "metadata": {},
   "outputs": [
    {
     "name": "stdout",
     "output_type": "stream",
     "text": [
      " * sqlite:///chinook.db\n",
      "Done.\n"
     ]
    },
    {
     "data": {
      "text/html": [
       "<table>\n",
       "    <tr>\n",
       "        <th>id</th>\n",
       "        <th>name</th>\n",
       "        <th>gpa</th>\n",
       "        <th>faculty_id</th>\n",
       "    </tr>\n",
       "    <tr>\n",
       "        <td>6</td>\n",
       "        <td>Jiw</td>\n",
       "        <td>3.2</td>\n",
       "        <td>None</td>\n",
       "    </tr>\n",
       "</table>"
      ],
      "text/plain": [
       "[(6, 'Jiw', 3.2, None)]"
      ]
     },
     "execution_count": 39,
     "metadata": {},
     "output_type": "execute_result"
    }
   ],
   "source": [
    "%%sql \n",
    "SELECT *\n",
    "  FROM Students\n",
    " WHERE faculty_id is null"
   ]
  },
  {
   "cell_type": "markdown",
   "metadata": {},
   "source": [
    "Вывести сотрудников, у которых нет вышестоящего менеджера"
   ]
  },
  {
   "cell_type": "code",
   "execution_count": 41,
   "metadata": {},
   "outputs": [
    {
     "name": "stdout",
     "output_type": "stream",
     "text": [
      " * sqlite:///chinook.db\n",
      "Done.\n"
     ]
    },
    {
     "data": {
      "text/html": [
       "<table>\n",
       "    <tr>\n",
       "        <th>id</th>\n",
       "        <th>name</th>\n",
       "        <th>phone</th>\n",
       "        <th>title</th>\n",
       "        <th>manager_id</th>\n",
       "    </tr>\n",
       "    <tr>\n",
       "        <td>1</td>\n",
       "        <td>Vasyugin</td>\n",
       "        <td>+111</td>\n",
       "        <td>Director</td>\n",
       "        <td>None</td>\n",
       "    </tr>\n",
       "</table>"
      ],
      "text/plain": [
       "[(1, 'Vasyugin', '+111', 'Director', None)]"
      ]
     },
     "execution_count": 41,
     "metadata": {},
     "output_type": "execute_result"
    }
   ],
   "source": [
    "%%sql \n",
    "SELECT * \n",
    "  FROM employee\n",
    " WHERE manager_id is null"
   ]
  },
  {
   "cell_type": "markdown",
   "metadata": {},
   "source": [
    "Вывести сотрудников, у которых есть вышестоящий менеджер"
   ]
  },
  {
   "cell_type": "code",
   "execution_count": 43,
   "metadata": {},
   "outputs": [
    {
     "name": "stdout",
     "output_type": "stream",
     "text": [
      " * sqlite:///chinook.db\n",
      "Done.\n"
     ]
    },
    {
     "data": {
      "text/html": [
       "<table>\n",
       "    <tr>\n",
       "        <th>id</th>\n",
       "        <th>name</th>\n",
       "        <th>phone</th>\n",
       "        <th>title</th>\n",
       "        <th>manager_id</th>\n",
       "    </tr>\n",
       "    <tr>\n",
       "        <td>2</td>\n",
       "        <td>Jones</td>\n",
       "        <td>+112</td>\n",
       "        <td>Vice President</td>\n",
       "        <td>1</td>\n",
       "    </tr>\n",
       "    <tr>\n",
       "        <td>3</td>\n",
       "        <td>Smith</td>\n",
       "        <td>+113</td>\n",
       "        <td>Vice President</td>\n",
       "        <td>1</td>\n",
       "    </tr>\n",
       "    <tr>\n",
       "        <td>4</td>\n",
       "        <td>Velaskes</td>\n",
       "        <td>+114</td>\n",
       "        <td>Developer</td>\n",
       "        <td>2</td>\n",
       "    </tr>\n",
       "    <tr>\n",
       "        <td>5</td>\n",
       "        <td>Simon</td>\n",
       "        <td>+115</td>\n",
       "        <td>Analyst</td>\n",
       "        <td>2</td>\n",
       "    </tr>\n",
       "    <tr>\n",
       "        <td>6</td>\n",
       "        <td>Johnson</td>\n",
       "        <td>+116</td>\n",
       "        <td>Engineer</td>\n",
       "        <td>3</td>\n",
       "    </tr>\n",
       "    <tr>\n",
       "        <td>7</td>\n",
       "        <td>Lee</td>\n",
       "        <td>+117</td>\n",
       "        <td>Engineer</td>\n",
       "        <td>3</td>\n",
       "    </tr>\n",
       "</table>"
      ],
      "text/plain": [
       "[(2, 'Jones', '+112', 'Vice President', 1),\n",
       " (3, 'Smith', '+113', 'Vice President', 1),\n",
       " (4, 'Velaskes', '+114', 'Developer', 2),\n",
       " (5, 'Simon', '+115', 'Analyst', 2),\n",
       " (6, 'Johnson', '+116', 'Engineer', 3),\n",
       " (7, 'Lee', '+117', 'Engineer', 3)]"
      ]
     },
     "execution_count": 43,
     "metadata": {},
     "output_type": "execute_result"
    }
   ],
   "source": [
    "%%sql \n",
    "SELECT * \n",
    "  FROM employee\n",
    " WHERE not (manager_id is null)"
   ]
  },
  {
   "cell_type": "code",
   "execution_count": 44,
   "metadata": {},
   "outputs": [
    {
     "name": "stdout",
     "output_type": "stream",
     "text": [
      " * sqlite:///chinook.db\n",
      "Done.\n"
     ]
    },
    {
     "data": {
      "text/html": [
       "<table>\n",
       "    <tr>\n",
       "        <th>id</th>\n",
       "        <th>name</th>\n",
       "        <th>phone</th>\n",
       "        <th>title</th>\n",
       "        <th>manager_id</th>\n",
       "    </tr>\n",
       "    <tr>\n",
       "        <td>2</td>\n",
       "        <td>Jones</td>\n",
       "        <td>+112</td>\n",
       "        <td>Vice President</td>\n",
       "        <td>1</td>\n",
       "    </tr>\n",
       "    <tr>\n",
       "        <td>3</td>\n",
       "        <td>Smith</td>\n",
       "        <td>+113</td>\n",
       "        <td>Vice President</td>\n",
       "        <td>1</td>\n",
       "    </tr>\n",
       "    <tr>\n",
       "        <td>4</td>\n",
       "        <td>Velaskes</td>\n",
       "        <td>+114</td>\n",
       "        <td>Developer</td>\n",
       "        <td>2</td>\n",
       "    </tr>\n",
       "    <tr>\n",
       "        <td>5</td>\n",
       "        <td>Simon</td>\n",
       "        <td>+115</td>\n",
       "        <td>Analyst</td>\n",
       "        <td>2</td>\n",
       "    </tr>\n",
       "    <tr>\n",
       "        <td>6</td>\n",
       "        <td>Johnson</td>\n",
       "        <td>+116</td>\n",
       "        <td>Engineer</td>\n",
       "        <td>3</td>\n",
       "    </tr>\n",
       "    <tr>\n",
       "        <td>7</td>\n",
       "        <td>Lee</td>\n",
       "        <td>+117</td>\n",
       "        <td>Engineer</td>\n",
       "        <td>3</td>\n",
       "    </tr>\n",
       "</table>"
      ],
      "text/plain": [
       "[(2, 'Jones', '+112', 'Vice President', 1),\n",
       " (3, 'Smith', '+113', 'Vice President', 1),\n",
       " (4, 'Velaskes', '+114', 'Developer', 2),\n",
       " (5, 'Simon', '+115', 'Analyst', 2),\n",
       " (6, 'Johnson', '+116', 'Engineer', 3),\n",
       " (7, 'Lee', '+117', 'Engineer', 3)]"
      ]
     },
     "execution_count": 44,
     "metadata": {},
     "output_type": "execute_result"
    }
   ],
   "source": [
    "%%sql \n",
    "SELECT * \n",
    "  FROM employee\n",
    " WHERE manager_id is not null"
   ]
  },
  {
   "cell_type": "markdown",
   "metadata": {},
   "source": [
    "## Вложенные подзапросы"
   ]
  },
  {
   "cell_type": "markdown",
   "metadata": {},
   "source": [
    "### Поиск по множеств"
   ]
  },
  {
   "cell_type": "markdown",
   "metadata": {},
   "source": [
    "Вывести студентов с факультета ИТ или Кибернетики"
   ]
  },
  {
   "cell_type": "code",
   "execution_count": 46,
   "metadata": {},
   "outputs": [
    {
     "name": "stdout",
     "output_type": "stream",
     "text": [
      " * sqlite:///chinook.db\n",
      "Done.\n"
     ]
    },
    {
     "data": {
      "text/html": [
       "<table>\n",
       "    <tr>\n",
       "        <th>id</th>\n",
       "        <th>name</th>\n",
       "        <th>gpa</th>\n",
       "        <th>faculty_id</th>\n",
       "    </tr>\n",
       "    <tr>\n",
       "        <td>1</td>\n",
       "        <td>Sidorov</td>\n",
       "        <td>3</td>\n",
       "        <td>1</td>\n",
       "    </tr>\n",
       "    <tr>\n",
       "        <td>2</td>\n",
       "        <td>Petrov</td>\n",
       "        <td>3.5</td>\n",
       "        <td>2</td>\n",
       "    </tr>\n",
       "    <tr>\n",
       "        <td>3</td>\n",
       "        <td>Verikov</td>\n",
       "        <td>4</td>\n",
       "        <td>1</td>\n",
       "    </tr>\n",
       "    <tr>\n",
       "        <td>4</td>\n",
       "        <td>Smith</td>\n",
       "        <td>4.2</td>\n",
       "        <td>2</td>\n",
       "    </tr>\n",
       "    <tr>\n",
       "        <td>5</td>\n",
       "        <td>Lee</td>\n",
       "        <td>4.5</td>\n",
       "        <td>1</td>\n",
       "    </tr>\n",
       "</table>"
      ],
      "text/plain": [
       "[(1, 'Sidorov', 3, 1),\n",
       " (2, 'Petrov', 3.5, 2),\n",
       " (3, 'Verikov', 4, 1),\n",
       " (4, 'Smith', 4.2, 2),\n",
       " (5, 'Lee', 4.5, 1)]"
      ]
     },
     "execution_count": 46,
     "metadata": {},
     "output_type": "execute_result"
    }
   ],
   "source": [
    "%%sql \n",
    "SELECT * \n",
    "  FROM Students \n",
    " WHERE faculty_id in (SELECT id FROM Faculties WHERE name = 'IT' or name = 'KIB')"
   ]
  },
  {
   "cell_type": "markdown",
   "metadata": {},
   "source": [
    "Вывести студентов, которые не учаться на факультете ИТ"
   ]
  },
  {
   "cell_type": "code",
   "execution_count": 47,
   "metadata": {},
   "outputs": [
    {
     "name": "stdout",
     "output_type": "stream",
     "text": [
      " * sqlite:///chinook.db\n",
      "Done.\n"
     ]
    },
    {
     "data": {
      "text/html": [
       "<table>\n",
       "    <tr>\n",
       "        <th>id</th>\n",
       "        <th>name</th>\n",
       "        <th>gpa</th>\n",
       "        <th>faculty_id</th>\n",
       "    </tr>\n",
       "    <tr>\n",
       "        <td>2</td>\n",
       "        <td>Petrov</td>\n",
       "        <td>3.5</td>\n",
       "        <td>2</td>\n",
       "    </tr>\n",
       "    <tr>\n",
       "        <td>4</td>\n",
       "        <td>Smith</td>\n",
       "        <td>4.2</td>\n",
       "        <td>2</td>\n",
       "    </tr>\n",
       "</table>"
      ],
      "text/plain": [
       "[(2, 'Petrov', 3.5, 2), (4, 'Smith', 4.2, 2)]"
      ]
     },
     "execution_count": 47,
     "metadata": {},
     "output_type": "execute_result"
    }
   ],
   "source": [
    "%%sql \n",
    "SELECT * \n",
    "  FROM Students \n",
    " WHERE faculty_id not in (SELECT id FROM Faculties WHERE name = 'IT')"
   ]
  },
  {
   "cell_type": "markdown",
   "metadata": {},
   "source": [
    "Заметьте, что есть еще один студент не с факультета ИТ"
   ]
  },
  {
   "cell_type": "code",
   "execution_count": 48,
   "metadata": {},
   "outputs": [
    {
     "name": "stdout",
     "output_type": "stream",
     "text": [
      " * sqlite:///chinook.db\n",
      "Done.\n"
     ]
    },
    {
     "data": {
      "text/html": [
       "<table>\n",
       "    <tr>\n",
       "        <th>id</th>\n",
       "        <th>name</th>\n",
       "        <th>gpa</th>\n",
       "        <th>faculty_id</th>\n",
       "    </tr>\n",
       "    <tr>\n",
       "        <td>2</td>\n",
       "        <td>Petrov</td>\n",
       "        <td>3.5</td>\n",
       "        <td>2</td>\n",
       "    </tr>\n",
       "    <tr>\n",
       "        <td>4</td>\n",
       "        <td>Smith</td>\n",
       "        <td>4.2</td>\n",
       "        <td>2</td>\n",
       "    </tr>\n",
       "    <tr>\n",
       "        <td>6</td>\n",
       "        <td>Jiw</td>\n",
       "        <td>3.2</td>\n",
       "        <td>None</td>\n",
       "    </tr>\n",
       "</table>"
      ],
      "text/plain": [
       "[(2, 'Petrov', 3.5, 2), (4, 'Smith', 4.2, 2), (6, 'Jiw', 3.2, None)]"
      ]
     },
     "execution_count": 48,
     "metadata": {},
     "output_type": "execute_result"
    }
   ],
   "source": [
    "%%sql \n",
    "SELECT * \n",
    "  FROM Students \n",
    " WHERE faculty_id not in (SELECT id FROM Faculties WHERE name = 'IT')\n",
    "    OR faculty_id is null"
   ]
  },
  {
   "cell_type": "markdown",
   "metadata": {},
   "source": [
    "Вывести студентов со средним баллом, большего чем средний балл у худшего студента с факультета Кибернетики"
   ]
  },
  {
   "cell_type": "code",
   "execution_count": 49,
   "metadata": {},
   "outputs": [
    {
     "name": "stdout",
     "output_type": "stream",
     "text": [
      " * sqlite:///chinook.db\n",
      "Done.\n"
     ]
    },
    {
     "data": {
      "text/html": [
       "<table>\n",
       "    <tr>\n",
       "        <th>id</th>\n",
       "        <th>name</th>\n",
       "        <th>gpa</th>\n",
       "        <th>faculty_id</th>\n",
       "    </tr>\n",
       "    <tr>\n",
       "        <td>3</td>\n",
       "        <td>Verikov</td>\n",
       "        <td>4</td>\n",
       "        <td>1</td>\n",
       "    </tr>\n",
       "    <tr>\n",
       "        <td>4</td>\n",
       "        <td>Smith</td>\n",
       "        <td>4.2</td>\n",
       "        <td>2</td>\n",
       "    </tr>\n",
       "    <tr>\n",
       "        <td>5</td>\n",
       "        <td>Lee</td>\n",
       "        <td>4.5</td>\n",
       "        <td>1</td>\n",
       "    </tr>\n",
       "</table>"
      ],
      "text/plain": [
       "[(3, 'Verikov', 4, 1), (4, 'Smith', 4.2, 2), (5, 'Lee', 4.5, 1)]"
      ]
     },
     "execution_count": 49,
     "metadata": {},
     "output_type": "execute_result"
    }
   ],
   "source": [
    "%%sql \n",
    "SELECT * \n",
    "  FROM Students \n",
    " WHERE gpa > (\n",
    "              SELECT MIN(gpa) \n",
    "                FROM Students \n",
    "               WHERE faculty_id = (select id FROM Faculties WHERE name = 'KIB'))"
   ]
  },
  {
   "cell_type": "markdown",
   "metadata": {},
   "source": [
    "Вывести студентов со средним баллом, большего чем средний балл у лучшего из худших струдентов по факультету"
   ]
  },
  {
   "cell_type": "markdown",
   "metadata": {},
   "source": [
    "Как не стоит писать:"
   ]
  },
  {
   "cell_type": "code",
   "execution_count": 57,
   "metadata": {},
   "outputs": [
    {
     "name": "stdout",
     "output_type": "stream",
     "text": [
      " * sqlite:///chinook.db\n",
      "Done.\n"
     ]
    },
    {
     "data": {
      "text/html": [
       "<table>\n",
       "    <tr>\n",
       "        <th>id</th>\n",
       "        <th>name</th>\n",
       "        <th>gpa</th>\n",
       "        <th>faculty_id</th>\n",
       "    </tr>\n",
       "    <tr>\n",
       "        <td>2</td>\n",
       "        <td>Petrov</td>\n",
       "        <td>3.5</td>\n",
       "        <td>2</td>\n",
       "    </tr>\n",
       "    <tr>\n",
       "        <td>3</td>\n",
       "        <td>Verikov</td>\n",
       "        <td>4</td>\n",
       "        <td>1</td>\n",
       "    </tr>\n",
       "    <tr>\n",
       "        <td>4</td>\n",
       "        <td>Smith</td>\n",
       "        <td>4.2</td>\n",
       "        <td>2</td>\n",
       "    </tr>\n",
       "    <tr>\n",
       "        <td>5</td>\n",
       "        <td>Lee</td>\n",
       "        <td>4.5</td>\n",
       "        <td>1</td>\n",
       "    </tr>\n",
       "</table>"
      ],
      "text/plain": [
       "[(2, 'Petrov', 3.5, 2),\n",
       " (3, 'Verikov', 4, 1),\n",
       " (4, 'Smith', 4.2, 2),\n",
       " (5, 'Lee', 4.5, 1)]"
      ]
     },
     "execution_count": 57,
     "metadata": {},
     "output_type": "execute_result"
    }
   ],
   "source": [
    "%%sql \n",
    "SELECT * \n",
    "  FROM Students \n",
    " WHERE gpa > (\n",
    "              SELECT MIN(gpa) \n",
    "                FROM Students \n",
    "               GROUP BY faculty_id)"
   ]
  },
  {
   "cell_type": "code",
   "execution_count": 58,
   "metadata": {},
   "outputs": [
    {
     "name": "stdout",
     "output_type": "stream",
     "text": [
      " * sqlite:///chinook.db\n",
      "Done.\n"
     ]
    },
    {
     "data": {
      "text/html": [
       "<table>\n",
       "    <tr>\n",
       "        <th>id</th>\n",
       "        <th>name</th>\n",
       "        <th>gpa</th>\n",
       "        <th>faculty_id</th>\n",
       "    </tr>\n",
       "    <tr>\n",
       "        <td>3</td>\n",
       "        <td>Verikov</td>\n",
       "        <td>4</td>\n",
       "        <td>1</td>\n",
       "    </tr>\n",
       "    <tr>\n",
       "        <td>4</td>\n",
       "        <td>Smith</td>\n",
       "        <td>4.2</td>\n",
       "        <td>2</td>\n",
       "    </tr>\n",
       "    <tr>\n",
       "        <td>5</td>\n",
       "        <td>Lee</td>\n",
       "        <td>4.5</td>\n",
       "        <td>1</td>\n",
       "    </tr>\n",
       "</table>"
      ],
      "text/plain": [
       "[(3, 'Verikov', 4, 1), (4, 'Smith', 4.2, 2), (5, 'Lee', 4.5, 1)]"
      ]
     },
     "execution_count": 58,
     "metadata": {},
     "output_type": "execute_result"
    }
   ],
   "source": [
    "%%sql \n",
    "SELECT * \n",
    "  FROM Students \n",
    " WHERE gpa > (\n",
    "              SELECT MIN(gpa) \n",
    "                FROM Students \n",
    "               GROUP BY faculty_id\n",
    "               ORDER BY min(gpa) desc)"
   ]
  },
  {
   "cell_type": "markdown",
   "metadata": {},
   "source": [
    "Правильные варианты:"
   ]
  },
  {
   "cell_type": "markdown",
   "metadata": {},
   "source": [
    "%%sql \n",
    "SELECT * \n",
    "  FROM Students \n",
    " WHERE gpa > (SELECT max(gpa)\n",
    "                FROM (\n",
    "                     SELECT MIN(gpa) as gpa\n",
    "                       FROM Students \n",
    "                      GROUP BY faculty_id))"
   ]
  },
  {
   "cell_type": "code",
   "execution_count": 61,
   "metadata": {},
   "outputs": [
    {
     "name": "stdout",
     "output_type": "stream",
     "text": [
      " * sqlite:///chinook.db\n",
      "(sqlite3.OperationalError) near \"SELECT\": syntax error\n",
      "[SQL: SELECT * \n",
      "  FROM Students \n",
      " WHERE gpa >any (\n",
      "                     SELECT MIN(gpa) as gpa\n",
      "                       FROM Students \n",
      "                      GROUP BY faculty_id)]\n",
      "(Background on this error at: http://sqlalche.me/e/e3q8)\n"
     ]
    }
   ],
   "source": [
    "%%sql \n",
    "SELECT * \n",
    "  FROM Students \n",
    " WHERE gpa >any (\n",
    "                     SELECT MIN(gpa) as gpa\n",
    "                       FROM Students \n",
    "                      GROUP BY faculty_id)"
   ]
  },
  {
   "cell_type": "markdown",
   "metadata": {},
   "source": [
    "Вывести студентов со средним баллом, который больше чем минимальный средний балл на факультете"
   ]
  },
  {
   "cell_type": "code",
   "execution_count": 62,
   "metadata": {},
   "outputs": [
    {
     "name": "stdout",
     "output_type": "stream",
     "text": [
      " * sqlite:///chinook.db\n",
      "Done.\n"
     ]
    },
    {
     "data": {
      "text/html": [
       "<table>\n",
       "    <tr>\n",
       "        <th>id</th>\n",
       "        <th>name</th>\n",
       "        <th>gpa</th>\n",
       "        <th>faculty_id</th>\n",
       "    </tr>\n",
       "    <tr>\n",
       "        <td>3</td>\n",
       "        <td>Verikov</td>\n",
       "        <td>4</td>\n",
       "        <td>1</td>\n",
       "    </tr>\n",
       "    <tr>\n",
       "        <td>4</td>\n",
       "        <td>Smith</td>\n",
       "        <td>4.2</td>\n",
       "        <td>2</td>\n",
       "    </tr>\n",
       "    <tr>\n",
       "        <td>5</td>\n",
       "        <td>Lee</td>\n",
       "        <td>4.5</td>\n",
       "        <td>1</td>\n",
       "    </tr>\n",
       "</table>"
      ],
      "text/plain": [
       "[(3, 'Verikov', 4, 1), (4, 'Smith', 4.2, 2), (5, 'Lee', 4.5, 1)]"
      ]
     },
     "execution_count": 62,
     "metadata": {},
     "output_type": "execute_result"
    }
   ],
   "source": [
    "%%sql \n",
    "SELECT * \n",
    "  FROM Students s_o\n",
    " WHERE EXISTS(\n",
    "    SELECT 1\n",
    "      FROM Students s_i\n",
    "     WHERE s_o.faculty_id = s_i.faculty_id\n",
    "       AND s_o.gpa > s_i.gpa\n",
    "    )"
   ]
  },
  {
   "cell_type": "code",
   "execution_count": 65,
   "metadata": {},
   "outputs": [
    {
     "name": "stdout",
     "output_type": "stream",
     "text": [
      " * sqlite:///chinook.db\n",
      "Done.\n"
     ]
    },
    {
     "data": {
      "text/html": [
       "<table>\n",
       "    <tr>\n",
       "        <th>id</th>\n",
       "        <th>name</th>\n",
       "        <th>gpa</th>\n",
       "        <th>faculty_id</th>\n",
       "    </tr>\n",
       "    <tr>\n",
       "        <td>3</td>\n",
       "        <td>Verikov</td>\n",
       "        <td>4</td>\n",
       "        <td>1</td>\n",
       "    </tr>\n",
       "    <tr>\n",
       "        <td>4</td>\n",
       "        <td>Smith</td>\n",
       "        <td>4.2</td>\n",
       "        <td>2</td>\n",
       "    </tr>\n",
       "    <tr>\n",
       "        <td>5</td>\n",
       "        <td>Lee</td>\n",
       "        <td>4.5</td>\n",
       "        <td>1</td>\n",
       "    </tr>\n",
       "</table>"
      ],
      "text/plain": [
       "[(3, 'Verikov', 4, 1), (4, 'Smith', 4.2, 2), (5, 'Lee', 4.5, 1)]"
      ]
     },
     "execution_count": 65,
     "metadata": {},
     "output_type": "execute_result"
    }
   ],
   "source": [
    "%%sql\n",
    "SELECT s.*\n",
    "  FROM Students s\n",
    "  INNER \n",
    "  JOIN \n",
    "      (\n",
    "      SELECT faculty_id, min(gpa) as min_gpa\n",
    "        FROM Students \n",
    "       GROUP\n",
    "          BY faculty_id\n",
    "      ) G\n",
    "    ON s.faculty_id = g.faculty_id\n",
    " WHERE s.gpa > g.min_gpa"
   ]
  },
  {
   "cell_type": "markdown",
   "metadata": {},
   "source": [
    "## Оператор WITH"
   ]
  },
  {
   "cell_type": "code",
   "execution_count": 71,
   "metadata": {},
   "outputs": [
    {
     "name": "stdout",
     "output_type": "stream",
     "text": [
      " * sqlite:///chinook.db\n",
      "Done.\n"
     ]
    },
    {
     "data": {
      "text/html": [
       "<table>\n",
       "    <tr>\n",
       "        <th>id</th>\n",
       "        <th>name</th>\n",
       "        <th>gpa</th>\n",
       "        <th>faculty_id</th>\n",
       "    </tr>\n",
       "    <tr>\n",
       "        <td>3</td>\n",
       "        <td>Verikov</td>\n",
       "        <td>4</td>\n",
       "        <td>1</td>\n",
       "    </tr>\n",
       "    <tr>\n",
       "        <td>4</td>\n",
       "        <td>Smith</td>\n",
       "        <td>4.2</td>\n",
       "        <td>2</td>\n",
       "    </tr>\n",
       "    <tr>\n",
       "        <td>5</td>\n",
       "        <td>Lee</td>\n",
       "        <td>4.5</td>\n",
       "        <td>1</td>\n",
       "    </tr>\n",
       "</table>"
      ],
      "text/plain": [
       "[(3, 'Verikov', 4, 1), (4, 'Smith', 4.2, 2), (5, 'Lee', 4.5, 1)]"
      ]
     },
     "execution_count": 71,
     "metadata": {},
     "output_type": "execute_result"
    }
   ],
   "source": [
    "%%sql\n",
    "WITH g AS \n",
    "(\n",
    "SELECT faculty_id, min(gpa) as min_gpa\n",
    "  FROM Students \n",
    " GROUP \n",
    "    BY faculty_id\n",
    ")\n",
    "SELECT s.*\n",
    "  FROM Students s\n",
    " INNER \n",
    "  JOIN g\n",
    "    ON s.faculty_id = g.faculty_id\n",
    " WHERE s.gpa > g.min_gpa"
   ]
  },
  {
   "cell_type": "code",
   "execution_count": 72,
   "metadata": {},
   "outputs": [
    {
     "name": "stdout",
     "output_type": "stream",
     "text": [
      " * sqlite:///chinook.db\n",
      "Done.\n"
     ]
    },
    {
     "data": {
      "text/html": [
       "<table>\n",
       "    <tr>\n",
       "        <th>id</th>\n",
       "        <th>name</th>\n",
       "        <th>gpa</th>\n",
       "        <th>faculty_id</th>\n",
       "    </tr>\n",
       "    <tr>\n",
       "        <td>3</td>\n",
       "        <td>Verikov</td>\n",
       "        <td>4</td>\n",
       "        <td>1</td>\n",
       "    </tr>\n",
       "    <tr>\n",
       "        <td>4</td>\n",
       "        <td>Smith</td>\n",
       "        <td>4.2</td>\n",
       "        <td>2</td>\n",
       "    </tr>\n",
       "    <tr>\n",
       "        <td>5</td>\n",
       "        <td>Lee</td>\n",
       "        <td>4.5</td>\n",
       "        <td>1</td>\n",
       "    </tr>\n",
       "</table>"
      ],
      "text/plain": [
       "[(3, 'Verikov', 4, 1), (4, 'Smith', 4.2, 2), (5, 'Lee', 4.5, 1)]"
      ]
     },
     "execution_count": 72,
     "metadata": {},
     "output_type": "execute_result"
    }
   ],
   "source": [
    "%%sql\n",
    "WITH KIB_fac_id AS \n",
    "(\n",
    "SELECT id\n",
    "  FROM Faculties \n",
    " WHERE name = 'KIB'\n",
    "),\n",
    "min_gpa as \n",
    "(\n",
    "SELECT MIN(gpa) as min_gpa\n",
    "  FROM Students \n",
    " WHERE faculty_id = (SELECT id FROM KIB_fac_id)\n",
    ")\n",
    "SELECT * \n",
    "  FROM Students \n",
    " WHERE gpa > (SELECT min_gpa from min_gpa)"
   ]
  },
  {
   "cell_type": "markdown",
   "metadata": {},
   "source": [
    "## Скалярные подзапросы"
   ]
  },
  {
   "cell_type": "markdown",
   "metadata": {},
   "source": [
    "Вывести для каждого факультета количество студентов на факультете"
   ]
  },
  {
   "cell_type": "code",
   "execution_count": 74,
   "metadata": {},
   "outputs": [
    {
     "name": "stdout",
     "output_type": "stream",
     "text": [
      " * sqlite:///chinook.db\n",
      "Done.\n"
     ]
    },
    {
     "data": {
      "text/html": [
       "<table>\n",
       "    <tr>\n",
       "        <th>id</th>\n",
       "        <th>cnt</th>\n",
       "    </tr>\n",
       "    <tr>\n",
       "        <td>1</td>\n",
       "        <td>3</td>\n",
       "    </tr>\n",
       "    <tr>\n",
       "        <td>2</td>\n",
       "        <td>2</td>\n",
       "    </tr>\n",
       "</table>"
      ],
      "text/plain": [
       "[(1, 3), (2, 2)]"
      ]
     },
     "execution_count": 74,
     "metadata": {},
     "output_type": "execute_result"
    }
   ],
   "source": [
    "%%sql\n",
    "SELECT id, (SELECT count(*) FROM Students s WHERE s.faculty_id = f.id ) as cnt\n",
    "  FROM Faculties f"
   ]
  },
  {
   "cell_type": "markdown",
   "metadata": {},
   "source": [
    "# Соединения"
   ]
  },
  {
   "cell_type": "code",
   "execution_count": 76,
   "metadata": {},
   "outputs": [
    {
     "name": "stdout",
     "output_type": "stream",
     "text": [
      " * sqlite:///chinook.db\n",
      "Done.\n"
     ]
    },
    {
     "data": {
      "text/html": [
       "<table>\n",
       "    <tr>\n",
       "        <th>id</th>\n",
       "        <th>name</th>\n",
       "        <th>gpa</th>\n",
       "        <th>faculty_id</th>\n",
       "        <th>id_1</th>\n",
       "        <th>name_1</th>\n",
       "    </tr>\n",
       "</table>"
      ],
      "text/plain": [
       "[]"
      ]
     },
     "execution_count": 76,
     "metadata": {},
     "output_type": "execute_result"
    }
   ],
   "source": [
    "%%sql\n",
    "SELECT s.*, f.*\n",
    "  FROM Students s \n",
    "NATURAL\n",
    "  JOIN Faculties f"
   ]
  },
  {
   "cell_type": "code",
   "execution_count": 77,
   "metadata": {},
   "outputs": [
    {
     "name": "stdout",
     "output_type": "stream",
     "text": [
      " * sqlite:///chinook.db\n",
      "Done.\n"
     ]
    },
    {
     "data": {
      "text/html": [
       "<table>\n",
       "    <tr>\n",
       "        <th>id</th>\n",
       "        <th>name</th>\n",
       "        <th>gpa</th>\n",
       "        <th>faculty_id</th>\n",
       "        <th>id_1</th>\n",
       "        <th>name_1</th>\n",
       "    </tr>\n",
       "    <tr>\n",
       "        <td>1</td>\n",
       "        <td>Sidorov</td>\n",
       "        <td>3</td>\n",
       "        <td>1</td>\n",
       "        <td>1</td>\n",
       "        <td>IT</td>\n",
       "    </tr>\n",
       "    <tr>\n",
       "        <td>2</td>\n",
       "        <td>Petrov</td>\n",
       "        <td>3.5</td>\n",
       "        <td>2</td>\n",
       "        <td>2</td>\n",
       "        <td>KIB</td>\n",
       "    </tr>\n",
       "    <tr>\n",
       "        <td>3</td>\n",
       "        <td>Verikov</td>\n",
       "        <td>4</td>\n",
       "        <td>1</td>\n",
       "        <td>1</td>\n",
       "        <td>IT</td>\n",
       "    </tr>\n",
       "    <tr>\n",
       "        <td>4</td>\n",
       "        <td>Smith</td>\n",
       "        <td>4.2</td>\n",
       "        <td>2</td>\n",
       "        <td>2</td>\n",
       "        <td>KIB</td>\n",
       "    </tr>\n",
       "    <tr>\n",
       "        <td>5</td>\n",
       "        <td>Lee</td>\n",
       "        <td>4.5</td>\n",
       "        <td>1</td>\n",
       "        <td>1</td>\n",
       "        <td>IT</td>\n",
       "    </tr>\n",
       "</table>"
      ],
      "text/plain": [
       "[(1, 'Sidorov', 3, 1, 1, 'IT'),\n",
       " (2, 'Petrov', 3.5, 2, 2, 'KIB'),\n",
       " (3, 'Verikov', 4, 1, 1, 'IT'),\n",
       " (4, 'Smith', 4.2, 2, 2, 'KIB'),\n",
       " (5, 'Lee', 4.5, 1, 1, 'IT')]"
      ]
     },
     "execution_count": 77,
     "metadata": {},
     "output_type": "execute_result"
    }
   ],
   "source": [
    "%%sql\n",
    "SELECT s.*, f.* \n",
    "  FROM Students s \n",
    " INNER \n",
    "  JOIN Faculties F \n",
    "    ON s.faculty_id = f.id"
   ]
  },
  {
   "cell_type": "code",
   "execution_count": 78,
   "metadata": {},
   "outputs": [
    {
     "name": "stdout",
     "output_type": "stream",
     "text": [
      " * sqlite:///chinook.db\n",
      "Done.\n"
     ]
    },
    {
     "data": {
      "text/html": [
       "<table>\n",
       "    <tr>\n",
       "        <th>id</th>\n",
       "        <th>name</th>\n",
       "        <th>gpa</th>\n",
       "        <th>faculty_id</th>\n",
       "        <th>id_1</th>\n",
       "        <th>name_1</th>\n",
       "    </tr>\n",
       "    <tr>\n",
       "        <td>1</td>\n",
       "        <td>Sidorov</td>\n",
       "        <td>3</td>\n",
       "        <td>1</td>\n",
       "        <td>1</td>\n",
       "        <td>IT</td>\n",
       "    </tr>\n",
       "    <tr>\n",
       "        <td>2</td>\n",
       "        <td>Petrov</td>\n",
       "        <td>3.5</td>\n",
       "        <td>2</td>\n",
       "        <td>2</td>\n",
       "        <td>KIB</td>\n",
       "    </tr>\n",
       "    <tr>\n",
       "        <td>3</td>\n",
       "        <td>Verikov</td>\n",
       "        <td>4</td>\n",
       "        <td>1</td>\n",
       "        <td>1</td>\n",
       "        <td>IT</td>\n",
       "    </tr>\n",
       "    <tr>\n",
       "        <td>4</td>\n",
       "        <td>Smith</td>\n",
       "        <td>4.2</td>\n",
       "        <td>2</td>\n",
       "        <td>2</td>\n",
       "        <td>KIB</td>\n",
       "    </tr>\n",
       "    <tr>\n",
       "        <td>5</td>\n",
       "        <td>Lee</td>\n",
       "        <td>4.5</td>\n",
       "        <td>1</td>\n",
       "        <td>1</td>\n",
       "        <td>IT</td>\n",
       "    </tr>\n",
       "    <tr>\n",
       "        <td>6</td>\n",
       "        <td>Jiw</td>\n",
       "        <td>3.2</td>\n",
       "        <td>None</td>\n",
       "        <td>None</td>\n",
       "        <td>None</td>\n",
       "    </tr>\n",
       "</table>"
      ],
      "text/plain": [
       "[(1, 'Sidorov', 3, 1, 1, 'IT'),\n",
       " (2, 'Petrov', 3.5, 2, 2, 'KIB'),\n",
       " (3, 'Verikov', 4, 1, 1, 'IT'),\n",
       " (4, 'Smith', 4.2, 2, 2, 'KIB'),\n",
       " (5, 'Lee', 4.5, 1, 1, 'IT'),\n",
       " (6, 'Jiw', 3.2, None, None, None)]"
      ]
     },
     "execution_count": 78,
     "metadata": {},
     "output_type": "execute_result"
    }
   ],
   "source": [
    "%%sql\n",
    "SELECT s.*, f.* \n",
    "  FROM Students s \n",
    "  LEFT\n",
    "  JOIN Faculties F \n",
    "    ON s.faculty_id = f.id"
   ]
  },
  {
   "cell_type": "code",
   "execution_count": 79,
   "metadata": {},
   "outputs": [
    {
     "name": "stdout",
     "output_type": "stream",
     "text": [
      " * sqlite:///chinook.db\n",
      "Done.\n"
     ]
    },
    {
     "data": {
      "text/html": [
       "<table>\n",
       "    <tr>\n",
       "        <th>id</th>\n",
       "        <th>name</th>\n",
       "        <th>gpa</th>\n",
       "        <th>faculty_id</th>\n",
       "        <th>id_1</th>\n",
       "        <th>name_1</th>\n",
       "    </tr>\n",
       "    <tr>\n",
       "        <td>1</td>\n",
       "        <td>Sidorov</td>\n",
       "        <td>3</td>\n",
       "        <td>1</td>\n",
       "        <td>1</td>\n",
       "        <td>IT</td>\n",
       "    </tr>\n",
       "    <tr>\n",
       "        <td>2</td>\n",
       "        <td>Petrov</td>\n",
       "        <td>3.5</td>\n",
       "        <td>2</td>\n",
       "        <td>2</td>\n",
       "        <td>KIB</td>\n",
       "    </tr>\n",
       "    <tr>\n",
       "        <td>3</td>\n",
       "        <td>Verikov</td>\n",
       "        <td>4</td>\n",
       "        <td>1</td>\n",
       "        <td>1</td>\n",
       "        <td>IT</td>\n",
       "    </tr>\n",
       "    <tr>\n",
       "        <td>4</td>\n",
       "        <td>Smith</td>\n",
       "        <td>4.2</td>\n",
       "        <td>2</td>\n",
       "        <td>2</td>\n",
       "        <td>KIB</td>\n",
       "    </tr>\n",
       "    <tr>\n",
       "        <td>5</td>\n",
       "        <td>Lee</td>\n",
       "        <td>4.5</td>\n",
       "        <td>1</td>\n",
       "        <td>1</td>\n",
       "        <td>IT</td>\n",
       "    </tr>\n",
       "    <tr>\n",
       "        <td>6</td>\n",
       "        <td>Jiw</td>\n",
       "        <td>3.2</td>\n",
       "        <td>None</td>\n",
       "        <td>None</td>\n",
       "        <td>None</td>\n",
       "    </tr>\n",
       "</table>"
      ],
      "text/plain": [
       "[(1, 'Sidorov', 3, 1, 1, 'IT'),\n",
       " (2, 'Petrov', 3.5, 2, 2, 'KIB'),\n",
       " (3, 'Verikov', 4, 1, 1, 'IT'),\n",
       " (4, 'Smith', 4.2, 2, 2, 'KIB'),\n",
       " (5, 'Lee', 4.5, 1, 1, 'IT'),\n",
       " (6, 'Jiw', 3.2, None, None, None)]"
      ]
     },
     "execution_count": 79,
     "metadata": {},
     "output_type": "execute_result"
    }
   ],
   "source": [
    "%%sql\n",
    "SELECT s.*, f.* \n",
    "  FROM Students s \n",
    "  LEFT\n",
    " OUTER\n",
    "  JOIN Faculties F \n",
    "    ON s.faculty_id = f.id"
   ]
  },
  {
   "cell_type": "code",
   "execution_count": 80,
   "metadata": {},
   "outputs": [
    {
     "name": "stdout",
     "output_type": "stream",
     "text": [
      " * sqlite:///chinook.db\n",
      "Done.\n"
     ]
    },
    {
     "data": {
      "text/html": [
       "<table>\n",
       "    <tr>\n",
       "        <th>id</th>\n",
       "        <th>name</th>\n",
       "        <th>gpa</th>\n",
       "        <th>faculty_id</th>\n",
       "        <th>id_1</th>\n",
       "        <th>name_1</th>\n",
       "    </tr>\n",
       "    <tr>\n",
       "        <td>1</td>\n",
       "        <td>Sidorov</td>\n",
       "        <td>3</td>\n",
       "        <td>1</td>\n",
       "        <td>1</td>\n",
       "        <td>IT</td>\n",
       "    </tr>\n",
       "    <tr>\n",
       "        <td>2</td>\n",
       "        <td>Petrov</td>\n",
       "        <td>3.5</td>\n",
       "        <td>2</td>\n",
       "        <td>2</td>\n",
       "        <td>KIB</td>\n",
       "    </tr>\n",
       "    <tr>\n",
       "        <td>3</td>\n",
       "        <td>Verikov</td>\n",
       "        <td>4</td>\n",
       "        <td>1</td>\n",
       "        <td>None</td>\n",
       "        <td>None</td>\n",
       "    </tr>\n",
       "    <tr>\n",
       "        <td>4</td>\n",
       "        <td>Smith</td>\n",
       "        <td>4.2</td>\n",
       "        <td>2</td>\n",
       "        <td>None</td>\n",
       "        <td>None</td>\n",
       "    </tr>\n",
       "    <tr>\n",
       "        <td>5</td>\n",
       "        <td>Lee</td>\n",
       "        <td>4.5</td>\n",
       "        <td>1</td>\n",
       "        <td>None</td>\n",
       "        <td>None</td>\n",
       "    </tr>\n",
       "    <tr>\n",
       "        <td>6</td>\n",
       "        <td>Jiw</td>\n",
       "        <td>3.2</td>\n",
       "        <td>None</td>\n",
       "        <td>None</td>\n",
       "        <td>None</td>\n",
       "    </tr>\n",
       "</table>"
      ],
      "text/plain": [
       "[(1, 'Sidorov', 3, 1, 1, 'IT'),\n",
       " (2, 'Petrov', 3.5, 2, 2, 'KIB'),\n",
       " (3, 'Verikov', 4, 1, None, None),\n",
       " (4, 'Smith', 4.2, 2, None, None),\n",
       " (5, 'Lee', 4.5, 1, None, None),\n",
       " (6, 'Jiw', 3.2, None, None, None)]"
      ]
     },
     "execution_count": 80,
     "metadata": {},
     "output_type": "execute_result"
    }
   ],
   "source": [
    "%%sql\n",
    "SELECT s.*, f.* \n",
    "  FROM Students s \n",
    "  LEFT\n",
    "  JOIN Faculties F \n",
    " USING (id)"
   ]
  },
  {
   "cell_type": "markdown",
   "metadata": {},
   "source": [
    "# Представления"
   ]
  },
  {
   "cell_type": "code",
   "execution_count": 82,
   "metadata": {},
   "outputs": [
    {
     "name": "stdout",
     "output_type": "stream",
     "text": [
      " * sqlite:///chinook.db\n",
      "Done.\n"
     ]
    },
    {
     "data": {
      "text/plain": [
       "[]"
      ]
     },
     "execution_count": 82,
     "metadata": {},
     "output_type": "execute_result"
    }
   ],
   "source": [
    "%%sql\n",
    "CREATE VIEW StudentsAndFaculties AS\n",
    "SELECT s.*, f.name as faculty_name \n",
    "  FROM Students s \n",
    "  LEFT\n",
    " OUTER\n",
    "  JOIN Faculties F \n",
    "    ON s.faculty_id = f.id"
   ]
  },
  {
   "cell_type": "code",
   "execution_count": 83,
   "metadata": {},
   "outputs": [
    {
     "name": "stdout",
     "output_type": "stream",
     "text": [
      " * sqlite:///chinook.db\n",
      "Done.\n"
     ]
    },
    {
     "data": {
      "text/html": [
       "<table>\n",
       "    <tr>\n",
       "        <th>id</th>\n",
       "        <th>name</th>\n",
       "        <th>gpa</th>\n",
       "        <th>faculty_id</th>\n",
       "        <th>faculty_name</th>\n",
       "    </tr>\n",
       "    <tr>\n",
       "        <td>1</td>\n",
       "        <td>Sidorov</td>\n",
       "        <td>3</td>\n",
       "        <td>1</td>\n",
       "        <td>IT</td>\n",
       "    </tr>\n",
       "    <tr>\n",
       "        <td>2</td>\n",
       "        <td>Petrov</td>\n",
       "        <td>3.5</td>\n",
       "        <td>2</td>\n",
       "        <td>KIB</td>\n",
       "    </tr>\n",
       "    <tr>\n",
       "        <td>3</td>\n",
       "        <td>Verikov</td>\n",
       "        <td>4</td>\n",
       "        <td>1</td>\n",
       "        <td>IT</td>\n",
       "    </tr>\n",
       "    <tr>\n",
       "        <td>4</td>\n",
       "        <td>Smith</td>\n",
       "        <td>4.2</td>\n",
       "        <td>2</td>\n",
       "        <td>KIB</td>\n",
       "    </tr>\n",
       "    <tr>\n",
       "        <td>5</td>\n",
       "        <td>Lee</td>\n",
       "        <td>4.5</td>\n",
       "        <td>1</td>\n",
       "        <td>IT</td>\n",
       "    </tr>\n",
       "    <tr>\n",
       "        <td>6</td>\n",
       "        <td>Jiw</td>\n",
       "        <td>3.2</td>\n",
       "        <td>None</td>\n",
       "        <td>None</td>\n",
       "    </tr>\n",
       "</table>"
      ],
      "text/plain": [
       "[(1, 'Sidorov', 3, 1, 'IT'),\n",
       " (2, 'Petrov', 3.5, 2, 'KIB'),\n",
       " (3, 'Verikov', 4, 1, 'IT'),\n",
       " (4, 'Smith', 4.2, 2, 'KIB'),\n",
       " (5, 'Lee', 4.5, 1, 'IT'),\n",
       " (6, 'Jiw', 3.2, None, None)]"
      ]
     },
     "execution_count": 83,
     "metadata": {},
     "output_type": "execute_result"
    }
   ],
   "source": [
    "%%sql\n",
    "SELECT * \n",
    "  FROM StudentsAndFaculties"
   ]
  },
  {
   "cell_type": "markdown",
   "metadata": {},
   "source": [
    "## CASE WHEN"
   ]
  },
  {
   "cell_type": "code",
   "execution_count": 84,
   "metadata": {},
   "outputs": [
    {
     "name": "stdout",
     "output_type": "stream",
     "text": [
      " * sqlite:///chinook.db\n",
      "Done.\n"
     ]
    },
    {
     "data": {
      "text/html": [
       "<table>\n",
       "    <tr>\n",
       "        <th>mark</th>\n",
       "    </tr>\n",
       "    <tr>\n",
       "        <td>C</td>\n",
       "    </tr>\n",
       "    <tr>\n",
       "        <td>B</td>\n",
       "    </tr>\n",
       "    <tr>\n",
       "        <td>B</td>\n",
       "    </tr>\n",
       "    <tr>\n",
       "        <td>A</td>\n",
       "    </tr>\n",
       "    <tr>\n",
       "        <td>A</td>\n",
       "    </tr>\n",
       "    <tr>\n",
       "        <td>B</td>\n",
       "    </tr>\n",
       "</table>"
      ],
      "text/plain": [
       "[('C',), ('B',), ('B',), ('A',), ('A',), ('B',)]"
      ]
     },
     "execution_count": 84,
     "metadata": {},
     "output_type": "execute_result"
    }
   ],
   "source": [
    "%%sql\n",
    "SELECT CASE WHEN gpa > 4.0 \n",
    "              THEN 'A'\n",
    "            WHEN gpa > 3.0\n",
    "              THEN 'B'\n",
    "            ELSE 'C'\n",
    "       END as mark\n",
    "  FROM Students "
   ]
  },
  {
   "cell_type": "code",
   "execution_count": 85,
   "metadata": {},
   "outputs": [
    {
     "name": "stdout",
     "output_type": "stream",
     "text": [
      " * sqlite:///chinook.db\n",
      "Done.\n"
     ]
    },
    {
     "data": {
      "text/html": [
       "<table>\n",
       "    <tr>\n",
       "        <th>mark</th>\n",
       "        <th>cnt</th>\n",
       "    </tr>\n",
       "    <tr>\n",
       "        <td>A</td>\n",
       "        <td>2</td>\n",
       "    </tr>\n",
       "    <tr>\n",
       "        <td>B</td>\n",
       "        <td>3</td>\n",
       "    </tr>\n",
       "    <tr>\n",
       "        <td>C</td>\n",
       "        <td>1</td>\n",
       "    </tr>\n",
       "</table>"
      ],
      "text/plain": [
       "[('A', 2), ('B', 3), ('C', 1)]"
      ]
     },
     "execution_count": 85,
     "metadata": {},
     "output_type": "execute_result"
    }
   ],
   "source": [
    "%%sql\n",
    "SELECT CASE WHEN gpa > 4.0 \n",
    "              THEN 'A'\n",
    "            WHEN gpa > 3.0\n",
    "              THEN 'B'\n",
    "            ELSE 'C'\n",
    "       END as mark,\n",
    "       count(*) as cnt\n",
    "  FROM Students \n",
    " GROUP \n",
    "    BY CASE WHEN gpa > 4.0 \n",
    "              THEN 'A'\n",
    "            WHEN gpa > 3.0\n",
    "              THEN 'B'\n",
    "            ELSE 'C'\n",
    "       END"
   ]
  },
  {
   "cell_type": "code",
   "execution_count": null,
   "metadata": {},
   "outputs": [],
   "source": []
  },
  {
   "cell_type": "code",
   "execution_count": null,
   "metadata": {},
   "outputs": [],
   "source": []
  },
  {
   "cell_type": "code",
   "execution_count": null,
   "metadata": {},
   "outputs": [],
   "source": []
  },
  {
   "cell_type": "code",
   "execution_count": null,
   "metadata": {},
   "outputs": [],
   "source": []
  },
  {
   "cell_type": "code",
   "execution_count": null,
   "metadata": {},
   "outputs": [],
   "source": []
  },
  {
   "cell_type": "code",
   "execution_count": null,
   "metadata": {},
   "outputs": [],
   "source": []
  }
 ],
 "metadata": {
  "kernelspec": {
   "display_name": "Python 3",
   "language": "python",
   "name": "python3"
  },
  "language_info": {
   "codemirror_mode": {
    "name": "ipython",
    "version": 3
   },
   "file_extension": ".py",
   "mimetype": "text/x-python",
   "name": "python",
   "nbconvert_exporter": "python",
   "pygments_lexer": "ipython3",
   "version": "3.7.6"
  }
 },
 "nbformat": 4,
 "nbformat_minor": 4
}
